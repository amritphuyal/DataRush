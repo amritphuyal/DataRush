{
 "cells": [
  {
   "cell_type": "code",
   "execution_count": 1,
   "metadata": {},
   "outputs": [],
   "source": [
    "# #Important package for NLP\n",
    "# ! pip install nltk\n",
    "# ! pip install -U spacy\n",
    "# ! pip install textblob\n",
    "# ! pip install scikit-learn\n",
    "\n",
    "# # for data manupulation, cleansing and plotting\n",
    "# ! pip install pandas\n",
    "# ! pip install matplotlib\n",
    "# ! pip install numpy\n",
    "# ! pip install plotly\n",
    "# ! pip install dask\n",
    "\n",
    "\n",
    "# ! pip list  #check installed packages\n",
    "# ! pip freeze > requirements.txt #save installed packages to requirements.txt"
   ]
  },
  {
   "cell_type": "code",
   "execution_count": 14,
   "metadata": {},
   "outputs": [],
   "source": [
    "import re\n",
    "\n",
    "import pandas as pd\n",
    "import numpy as np\n",
    "\n",
    "import nltk #natural language toolkit\n",
    "\n",
    "from sklearn.feature_extraction.text import TfidfVectorizer\n",
    "from sklearn.preprocessing import LabelEncoder\n",
    "from sklearn.model_selection import train_test_split\n",
    "from sklearn.model_selection import cross_val_score\n",
    "from sklearn.svm import LinearSVC\n",
    "from sklearn.metrics import f1_score\n",
    "\n",
    "\n",
    "import matplotlib.pyplot as plt\n",
    "\n",
    "\n",
    "# !python -m spacy download en\n",
    "\n",
    "\n",
    "import spacy\n",
    "from nltk.stem import PorterStemmer\n",
    "\n",
    "# nlp = spacy.load('en_core_web_sm')"
   ]
  },
  {
   "cell_type": "code",
   "execution_count": 3,
   "metadata": {},
   "outputs": [
    {
     "data": {
      "text/html": [
       "<div>\n",
       "<style scoped>\n",
       "    .dataframe tbody tr th:only-of-type {\n",
       "        vertical-align: middle;\n",
       "    }\n",
       "\n",
       "    .dataframe tbody tr th {\n",
       "        vertical-align: top;\n",
       "    }\n",
       "\n",
       "    .dataframe thead th {\n",
       "        text-align: right;\n",
       "    }\n",
       "</style>\n",
       "<table border=\"1\" class=\"dataframe\">\n",
       "  <thead>\n",
       "    <tr style=\"text-align: right;\">\n",
       "      <th></th>\n",
       "      <th>id</th>\n",
       "      <th>abstract</th>\n",
       "      <th>category</th>\n",
       "      <th>category_num</th>\n",
       "    </tr>\n",
       "  </thead>\n",
       "  <tbody>\n",
       "    <tr>\n",
       "      <th>0</th>\n",
       "      <td>271675</td>\n",
       "      <td>Bacteria are often exposed to multiple stimu...</td>\n",
       "      <td>q-bio-QM</td>\n",
       "      <td>138</td>\n",
       "    </tr>\n",
       "    <tr>\n",
       "      <th>1</th>\n",
       "      <td>412276</td>\n",
       "      <td>Accurate knowledge of the thermodynamic prop...</td>\n",
       "      <td>hep-ph-</td>\n",
       "      <td>68</td>\n",
       "    </tr>\n",
       "    <tr>\n",
       "      <th>2</th>\n",
       "      <td>256956</td>\n",
       "      <td>The largest X9.3 solar flare in solar cycle ...</td>\n",
       "      <td>astro-ph-SR</td>\n",
       "      <td>7</td>\n",
       "    </tr>\n",
       "    <tr>\n",
       "      <th>3</th>\n",
       "      <td>427612</td>\n",
       "      <td>We say that a random integer variable $X$ is...</td>\n",
       "      <td>math-PR</td>\n",
       "      <td>93</td>\n",
       "    </tr>\n",
       "    <tr>\n",
       "      <th>4</th>\n",
       "      <td>113852</td>\n",
       "      <td>We derive a formula expressing the joint dis...</td>\n",
       "      <td>math-CO</td>\n",
       "      <td>76</td>\n",
       "    </tr>\n",
       "  </tbody>\n",
       "</table>\n",
       "</div>"
      ],
      "text/plain": [
       "       id                                           abstract     category  \\\n",
       "0  271675    Bacteria are often exposed to multiple stimu...     q-bio-QM   \n",
       "1  412276    Accurate knowledge of the thermodynamic prop...      hep-ph-   \n",
       "2  256956    The largest X9.3 solar flare in solar cycle ...  astro-ph-SR   \n",
       "3  427612    We say that a random integer variable $X$ is...      math-PR   \n",
       "4  113852    We derive a formula expressing the joint dis...      math-CO   \n",
       "\n",
       "   category_num  \n",
       "0           138  \n",
       "1            68  \n",
       "2             7  \n",
       "3            93  \n",
       "4            76  "
      ]
     },
     "execution_count": 3,
     "metadata": {},
     "output_type": "execute_result"
    }
   ],
   "source": [
    "# Reading the training and testing dataset\n",
    "df_data = pd.read_csv('./data/train.csv')\n",
    "# df_test_orginal = pd.read_csv('./data/test.csv')\n",
    "\n",
    "# df_train= df_train_orginal.sample(n=1000) #sampling  the data to make it faster\n",
    "# df_test= df_test_orginal.sample(n=1000)#sampling only 1000 rows randomly\n",
    "\n",
    "# df_data= df_train_orginal.sample(n=10000) #sampling 10000 from 3 lakh data  the data to make it faster\n",
    "df_data.head()\n"
   ]
  },
  {
   "cell_type": "code",
   "execution_count": 4,
   "metadata": {},
   "outputs": [
    {
     "data": {
      "text/plain": [
       "id               int64\n",
       "abstract        object\n",
       "category        object\n",
       "category_num     int64\n",
       "dtype: object"
      ]
     },
     "execution_count": 4,
     "metadata": {},
     "output_type": "execute_result"
    }
   ],
   "source": [
    "df_data.dtypes\n",
    "# df_data.memory_usage(deep=True)"
   ]
  },
  {
   "cell_type": "code",
   "execution_count": 5,
   "metadata": {},
   "outputs": [
    {
     "data": {
      "text/plain": [
       "Index                 128\n",
       "id                1562412\n",
       "abstract        429522799\n",
       "category           795575\n",
       "category_num      1562412\n",
       "dtype: int64"
      ]
     },
     "execution_count": 5,
     "metadata": {},
     "output_type": "execute_result"
    }
   ],
   "source": [
    "# convert \"category \" column to Categorial data to save memory space as they are repeated and in fixed no.\n",
    "\n",
    "\n",
    "df_data['category'] = df_data['category'].astype('category')\n",
    "\n",
    "# convert \"id \" and \"category_num\" column to int32 to save memory space as they are repeaded and in fixed no.\n",
    "df_data[['id','category_num']] = df_data[['id','category_num']].astype('int32')\n",
    "\n",
    "df_data.memory_usage(deep=True)\n",
    "\n",
    "# hence sucessfully reduced memory size of \"category\" column from 25487734 bytes to  795575 bytes and id and category_num column from 3.4 mb to 1.5 mb"
   ]
  },
  {
   "cell_type": "code",
   "execution_count": 9,
   "metadata": {},
   "outputs": [
    {
     "data": {
      "text/plain": [
       "23027"
      ]
     },
     "execution_count": 9,
     "metadata": {},
     "output_type": "execute_result"
    }
   ],
   "source": [
    "#subset data from category_num 0-5 only ,from train  for  training and testing\n",
    "\n",
    "df_data_subset5_dirty = df_data[df_data['category_num']<=5]\n",
    "\n",
    "\n",
    "#save to csv\n",
    "df_data_subset5_dirty.to_csv('./test/dirty5.csv',index=False)\n",
    "\n",
    "df_data_subset5_dirty.head()\n",
    "\n",
    "len(df_data_subset5_dirty)\n",
    "\n"
   ]
  },
  {
   "cell_type": "code",
   "execution_count": 7,
   "metadata": {},
   "outputs": [],
   "source": [
    "#Convert to lower case, remove punctuation and special characters, newline, and numbers, digits, and stopwords\n",
    "#Apply stemmer to text\n",
    "\n",
    "import nltk\n",
    "\n",
    "# nltk.download('stopwords')  # uncomment if stopwords is not found\n",
    "from nltk.corpus import stopwords\n",
    "\n",
    "from nltk.stem.porter import PorterStemmer\n",
    "#defining the object for stemming\n",
    "porter_stemmer = PorterStemmer()\n",
    "\n",
    "df_data = df_data.reset_index(drop=True)\n",
    "REPLACE_BY_SPACE_RE = re.compile('[/(){}\\[\\]\\|@,;]')\n",
    "BAD_SYMBOLS_RE = re.compile('[^0-9a-z #+_]')\n",
    "STOPWORDS = set(stopwords.words('english'))\n",
    "\n",
    "def clean_text(text):\n",
    "  \n",
    "    # text = text.lower() # lowercase text\n",
    "    # #replace line break with space \n",
    "    # text = re.sub(r'\\n+', ' ', text) # replace newline by space\n",
    "    # text = REPLACE_BY_SPACE_RE.sub(' ', text) # replace REPLACE_BY_SPACE_RE symbols by space in text. substitute the matched string in REPLACE_BY_SPACE_RE with space.\n",
    "    # text = BAD_SYMBOLS_RE.sub('', text) # remove symbols which are in BAD_SYMBOLS_RE from text. substitute the matched string in BAD_SYMBOLS_RE with nothing. \n",
    "    # # text = text.replace(' x ', ' ')\n",
    "    # # text = re.sub(r'\\W+', '', text) # remove non-word characters from text\n",
    "    # text=re.sub(r'\\d+', ' ', text) # remove digits from text\n",
    "    # #Steam text\n",
    "    \n",
    "    # text = ' '.join(word for word in text.split() if word not in STOPWORDS) # remove stopwords from text\n",
    "    # text= [porter_stemmer.stem(word) for word in text ] # stem text\n",
    "    # text = ' '.join(text) # join list of words\n",
    "    \n",
    "    text = re.sub('[^a-z\\s]', ' ', text.lower())\n",
    "    text = [i.lower() for i in text.split() if i not in STOPWORDS]\n",
    "    text = [porter_stemmer.stem(i) for i in text]\n",
    "    text = ' '.join(text)\n",
    "    text.replace('\\n',' ')\n",
    "\n",
    "    return text\n"
   ]
  },
  {
   "cell_type": "code",
   "execution_count": 10,
   "metadata": {},
   "outputs": [
    {
     "data": {
      "text/html": [
       "<div>\n",
       "<style scoped>\n",
       "    .dataframe tbody tr th:only-of-type {\n",
       "        vertical-align: middle;\n",
       "    }\n",
       "\n",
       "    .dataframe tbody tr th {\n",
       "        vertical-align: top;\n",
       "    }\n",
       "\n",
       "    .dataframe thead th {\n",
       "        text-align: right;\n",
       "    }\n",
       "</style>\n",
       "<table border=\"1\" class=\"dataframe\">\n",
       "  <thead>\n",
       "    <tr style=\"text-align: right;\">\n",
       "      <th></th>\n",
       "      <th>id</th>\n",
       "      <th>abstract</th>\n",
       "      <th>category</th>\n",
       "      <th>category_num</th>\n",
       "    </tr>\n",
       "  </thead>\n",
       "  <tbody>\n",
       "    <tr>\n",
       "      <th>0</th>\n",
       "      <td>274789</td>\n",
       "      <td>main purpos paper obtain analyt solut radi tra...</td>\n",
       "      <td>astro-ph-HE</td>\n",
       "      <td>5</td>\n",
       "    </tr>\n",
       "    <tr>\n",
       "      <th>1</th>\n",
       "      <td>379433</td>\n",
       "      <td>search astrophys point like neutrino sourc use...</td>\n",
       "      <td>astro-ph-HE</td>\n",
       "      <td>5</td>\n",
       "    </tr>\n",
       "    <tr>\n",
       "      <th>2</th>\n",
       "      <td>253348</td>\n",
       "      <td>studi vertic distribut earliest stage star for...</td>\n",
       "      <td>astro-ph-GA</td>\n",
       "      <td>4</td>\n",
       "    </tr>\n",
       "    <tr>\n",
       "      <th>3</th>\n",
       "      <td>486373</td>\n",
       "      <td>binari evolv due dynam scatter star dens envir...</td>\n",
       "      <td>astro-ph-GA</td>\n",
       "      <td>4</td>\n",
       "    </tr>\n",
       "    <tr>\n",
       "      <th>4</th>\n",
       "      <td>280592</td>\n",
       "      <td>propos sever anomali observ larg angular scale...</td>\n",
       "      <td>astro-ph-CO</td>\n",
       "      <td>2</td>\n",
       "    </tr>\n",
       "  </tbody>\n",
       "</table>\n",
       "</div>"
      ],
      "text/plain": [
       "       id                                           abstract     category  \\\n",
       "0  274789  main purpos paper obtain analyt solut radi tra...  astro-ph-HE   \n",
       "1  379433  search astrophys point like neutrino sourc use...  astro-ph-HE   \n",
       "2  253348  studi vertic distribut earliest stage star for...  astro-ph-GA   \n",
       "3  486373  binari evolv due dynam scatter star dens envir...  astro-ph-GA   \n",
       "4  280592  propos sever anomali observ larg angular scale...  astro-ph-CO   \n",
       "\n",
       "   category_num  \n",
       "0             5  \n",
       "1             5  \n",
       "2             4  \n",
       "3             4  \n",
       "4             2  "
      ]
     },
     "execution_count": 10,
     "metadata": {},
     "output_type": "execute_result"
    }
   ],
   "source": [
    "#import dirty train data to pd\n",
    "df_data_subset5_dirty = pd.read_csv('./test/dirty5.csv')\n",
    "\n",
    "#apply cleaning function to each row of data\n",
    "df_data_subset5_dirty['abstract'] = df_data_subset5_dirty['abstract'].apply(clean_text)\n",
    "df_data_subset5_dirty.head()\n",
    "\n",
    "# #save to csv\n",
    "# df_data_subset5_dirty.to_csv('./test/clean5.csv',index=False)\n",
    "# df_data_subset5_dirty.head()\n"
   ]
  },
  {
   "cell_type": "code",
   "execution_count": 11,
   "metadata": {},
   "outputs": [
    {
     "data": {
      "text/html": [
       "<div>\n",
       "<style scoped>\n",
       "    .dataframe tbody tr th:only-of-type {\n",
       "        vertical-align: middle;\n",
       "    }\n",
       "\n",
       "    .dataframe tbody tr th {\n",
       "        vertical-align: top;\n",
       "    }\n",
       "\n",
       "    .dataframe thead th {\n",
       "        text-align: right;\n",
       "    }\n",
       "</style>\n",
       "<table border=\"1\" class=\"dataframe\">\n",
       "  <thead>\n",
       "    <tr style=\"text-align: right;\">\n",
       "      <th></th>\n",
       "      <th>id</th>\n",
       "      <th>abstract</th>\n",
       "      <th>category</th>\n",
       "      <th>category_num</th>\n",
       "    </tr>\n",
       "  </thead>\n",
       "  <tbody>\n",
       "    <tr>\n",
       "      <th>0</th>\n",
       "      <td>271675</td>\n",
       "      <td>bacteria often expos multipl stimuli complex e...</td>\n",
       "      <td>q-bio-QM</td>\n",
       "      <td>138</td>\n",
       "    </tr>\n",
       "    <tr>\n",
       "      <th>1</th>\n",
       "      <td>412276</td>\n",
       "      <td>accur knowledg thermodynam properti zero tempe...</td>\n",
       "      <td>hep-ph-</td>\n",
       "      <td>68</td>\n",
       "    </tr>\n",
       "    <tr>\n",
       "      <th>2</th>\n",
       "      <td>256956</td>\n",
       "      <td>largest x solar flare solar cycl preced x flar...</td>\n",
       "      <td>astro-ph-SR</td>\n",
       "      <td>7</td>\n",
       "    </tr>\n",
       "    <tr>\n",
       "      <th>3</th>\n",
       "      <td>427612</td>\n",
       "      <td>say random integ variabl x monoton modulu char...</td>\n",
       "      <td>math-PR</td>\n",
       "      <td>93</td>\n",
       "    </tr>\n",
       "    <tr>\n",
       "      <th>4</th>\n",
       "      <td>113852</td>\n",
       "      <td>deriv formula express joint distribut cyclic v...</td>\n",
       "      <td>math-CO</td>\n",
       "      <td>76</td>\n",
       "    </tr>\n",
       "  </tbody>\n",
       "</table>\n",
       "</div>"
      ],
      "text/plain": [
       "       id                                           abstract     category  \\\n",
       "0  271675  bacteria often expos multipl stimuli complex e...     q-bio-QM   \n",
       "1  412276  accur knowledg thermodynam properti zero tempe...      hep-ph-   \n",
       "2  256956  largest x solar flare solar cycl preced x flar...  astro-ph-SR   \n",
       "3  427612  say random integ variabl x monoton modulu char...      math-PR   \n",
       "4  113852  deriv formula express joint distribut cyclic v...      math-CO   \n",
       "\n",
       "   category_num  \n",
       "0           138  \n",
       "1            68  \n",
       "2             7  \n",
       "3            93  \n",
       "4            76  "
      ]
     },
     "execution_count": 11,
     "metadata": {},
     "output_type": "execute_result"
    }
   ],
   "source": [
    "#clean Train data\n",
    "\n",
    "df_data['abstract'] = df_data['abstract'].apply(clean_text)\n",
    "\n",
    "#copy dataframe to another dataframe\n",
    "df_data_clean = df_data.copy()\n",
    "\n",
    "#save to csv\n",
    "df_data_clean.to_csv('./data/train_clean.csv', index=False)\n",
    "\n",
    "df_data_clean.head()\n"
   ]
  },
  {
   "cell_type": "code",
   "execution_count": 12,
   "metadata": {},
   "outputs": [
    {
     "data": {
      "text/html": [
       "<div>\n",
       "<style scoped>\n",
       "    .dataframe tbody tr th:only-of-type {\n",
       "        vertical-align: middle;\n",
       "    }\n",
       "\n",
       "    .dataframe tbody tr th {\n",
       "        vertical-align: top;\n",
       "    }\n",
       "\n",
       "    .dataframe thead th {\n",
       "        text-align: right;\n",
       "    }\n",
       "</style>\n",
       "<table border=\"1\" class=\"dataframe\">\n",
       "  <thead>\n",
       "    <tr style=\"text-align: right;\">\n",
       "      <th></th>\n",
       "      <th>id</th>\n",
       "      <th>abstract</th>\n",
       "    </tr>\n",
       "  </thead>\n",
       "  <tbody>\n",
       "    <tr>\n",
       "      <th>0</th>\n",
       "      <td>430065</td>\n",
       "      <td>depth map obtain commerci depth sensor alway l...</td>\n",
       "    </tr>\n",
       "    <tr>\n",
       "      <th>1</th>\n",
       "      <td>75226</td>\n",
       "      <td>lambda express introduc java program languag p...</td>\n",
       "    </tr>\n",
       "    <tr>\n",
       "      <th>2</th>\n",
       "      <td>301990</td>\n",
       "      <td>propos demonstr gamma gamma collid w gg gev ad...</td>\n",
       "    </tr>\n",
       "    <tr>\n",
       "      <th>3</th>\n",
       "      <td>301001</td>\n",
       "      <td>physic lab student experi wide rang equit ineq...</td>\n",
       "    </tr>\n",
       "    <tr>\n",
       "      <th>4</th>\n",
       "      <td>280179</td>\n",
       "      <td>exist local minima one hidden layer relu netwo...</td>\n",
       "    </tr>\n",
       "  </tbody>\n",
       "</table>\n",
       "</div>"
      ],
      "text/plain": [
       "       id                                           abstract\n",
       "0  430065  depth map obtain commerci depth sensor alway l...\n",
       "1   75226  lambda express introduc java program languag p...\n",
       "2  301990  propos demonstr gamma gamma collid w gg gev ad...\n",
       "3  301001  physic lab student experi wide rang equit ineq...\n",
       "4  280179  exist local minima one hidden layer relu netwo..."
      ]
     },
     "execution_count": 12,
     "metadata": {},
     "output_type": "execute_result"
    }
   ],
   "source": [
    "# clean test data\n",
    "df_test = pd.read_csv('./data/test.csv')\n",
    "df_test['abstract'] = df_test['abstract'].apply(clean_text)\n",
    "\n",
    "#save to csv\n",
    "df_test.to_csv('./data/test_clean.csv', index=False)\n",
    "df_test.head()\n"
   ]
  },
  {
   "cell_type": "code",
   "execution_count": 13,
   "metadata": {},
   "outputs": [
    {
     "data": {
      "text/html": [
       "<div>\n",
       "<style scoped>\n",
       "    .dataframe tbody tr th:only-of-type {\n",
       "        vertical-align: middle;\n",
       "    }\n",
       "\n",
       "    .dataframe tbody tr th {\n",
       "        vertical-align: top;\n",
       "    }\n",
       "\n",
       "    .dataframe thead th {\n",
       "        text-align: right;\n",
       "    }\n",
       "</style>\n",
       "<table border=\"1\" class=\"dataframe\">\n",
       "  <thead>\n",
       "    <tr style=\"text-align: right;\">\n",
       "      <th></th>\n",
       "      <th>id</th>\n",
       "      <th>abstract</th>\n",
       "      <th>category</th>\n",
       "      <th>category_num</th>\n",
       "    </tr>\n",
       "  </thead>\n",
       "  <tbody>\n",
       "    <tr>\n",
       "      <th>0</th>\n",
       "      <td>27</td>\n",
       "      <td>semiclass method explain mani mesoscop effect ...</td>\n",
       "      <td>cond-mat-mes-hall</td>\n",
       "      <td>9</td>\n",
       "    </tr>\n",
       "    <tr>\n",
       "      <th>1</th>\n",
       "      <td>36</td>\n",
       "      <td>let motiv introduc notion dualiti main result ...</td>\n",
       "      <td>math-NT</td>\n",
       "      <td>90</td>\n",
       "    </tr>\n",
       "    <tr>\n",
       "      <th>2</th>\n",
       "      <td>71</td>\n",
       "      <td>construct state invari action gener squeez ope...</td>\n",
       "      <td>quant-ph-</td>\n",
       "      <td>150</td>\n",
       "    </tr>\n",
       "    <tr>\n",
       "      <th>3</th>\n",
       "      <td>82</td>\n",
       "      <td>say lie super algebra symmetr everi root respe...</td>\n",
       "      <td>math-RT</td>\n",
       "      <td>96</td>\n",
       "    </tr>\n",
       "    <tr>\n",
       "      <th>4</th>\n",
       "      <td>84</td>\n",
       "      <td>paper defin lagrangian scalar gaug field causa...</td>\n",
       "      <td>physics-gen-ph</td>\n",
       "      <td>120</td>\n",
       "    </tr>\n",
       "  </tbody>\n",
       "</table>\n",
       "</div>"
      ],
      "text/plain": [
       "   id                                           abstract           category  \\\n",
       "0  27  semiclass method explain mani mesoscop effect ...  cond-mat-mes-hall   \n",
       "1  36  let motiv introduc notion dualiti main result ...            math-NT   \n",
       "2  71  construct state invari action gener squeez ope...          quant-ph-   \n",
       "3  82  say lie super algebra symmetr everi root respe...            math-RT   \n",
       "4  84  paper defin lagrangian scalar gaug field causa...     physics-gen-ph   \n",
       "\n",
       "   category_num  \n",
       "0             9  \n",
       "1            90  \n",
       "2           150  \n",
       "3            96  \n",
       "4           120  "
      ]
     },
     "execution_count": 13,
     "metadata": {},
     "output_type": "execute_result"
    }
   ],
   "source": [
    "#clean validation data\n",
    "df_validation = pd.read_csv('./data/validation.csv')\n",
    "df_validation['abstract'] = df_validation['abstract'].apply(clean_text)\n",
    "df_validation['abstract'] = df_validation['abstract'].str.replace('\\d+', '')\n",
    "\n",
    "#save to csv\n",
    "df_validation.to_csv('./data/validation_clean.csv', index=False)\n",
    "df_validation.head()"
   ]
  },
  {
   "cell_type": "code",
   "execution_count": 24,
   "metadata": {},
   "outputs": [
    {
     "data": {
      "text/html": [
       "<div>\n",
       "<style scoped>\n",
       "    .dataframe tbody tr th:only-of-type {\n",
       "        vertical-align: middle;\n",
       "    }\n",
       "\n",
       "    .dataframe tbody tr th {\n",
       "        vertical-align: top;\n",
       "    }\n",
       "\n",
       "    .dataframe thead th {\n",
       "        text-align: right;\n",
       "    }\n",
       "</style>\n",
       "<table border=\"1\" class=\"dataframe\">\n",
       "  <thead>\n",
       "    <tr style=\"text-align: right;\">\n",
       "      <th></th>\n",
       "      <th>id</th>\n",
       "      <th>abstract</th>\n",
       "      <th>category</th>\n",
       "      <th>category_num</th>\n",
       "    </tr>\n",
       "  </thead>\n",
       "  <tbody>\n",
       "    <tr>\n",
       "      <th>0</th>\n",
       "      <td>27</td>\n",
       "      <td>semiclass method explain mani mesoscop effect ...</td>\n",
       "      <td>cond-mat-mes-hall</td>\n",
       "      <td>9</td>\n",
       "    </tr>\n",
       "    <tr>\n",
       "      <th>1</th>\n",
       "      <td>494</td>\n",
       "      <td>studi rotat spectrum nacn x recent extend freq...</td>\n",
       "      <td>astro-ph-GA</td>\n",
       "      <td>4</td>\n",
       "    </tr>\n",
       "    <tr>\n",
       "      <th>2</th>\n",
       "      <td>567</td>\n",
       "      <td>present ghz sub arcminut resolut imag sunyaev ...</td>\n",
       "      <td>astro-ph-CO</td>\n",
       "      <td>2</td>\n",
       "    </tr>\n",
       "    <tr>\n",
       "      <th>3</th>\n",
       "      <td>726</td>\n",
       "      <td>na xcoo fascin complex magnet phase diagram ma...</td>\n",
       "      <td>cond-mat-mtrl-sci</td>\n",
       "      <td>10</td>\n",
       "    </tr>\n",
       "    <tr>\n",
       "      <th>4</th>\n",
       "      <td>946</td>\n",
       "      <td>report care finit size scale studi metal insul...</td>\n",
       "      <td>cond-mat-mes-hall</td>\n",
       "      <td>9</td>\n",
       "    </tr>\n",
       "  </tbody>\n",
       "</table>\n",
       "</div>"
      ],
      "text/plain": [
       "    id                                           abstract           category  \\\n",
       "0   27  semiclass method explain mani mesoscop effect ...  cond-mat-mes-hall   \n",
       "1  494  studi rotat spectrum nacn x recent extend freq...        astro-ph-GA   \n",
       "2  567  present ghz sub arcminut resolut imag sunyaev ...        astro-ph-CO   \n",
       "3  726  na xcoo fascin complex magnet phase diagram ma...  cond-mat-mtrl-sci   \n",
       "4  946  report care finit size scale studi metal insul...  cond-mat-mes-hall   \n",
       "\n",
       "   category_num  \n",
       "0             9  \n",
       "1             4  \n",
       "2             2  \n",
       "3            10  \n",
       "4             9  "
      ]
     },
     "execution_count": 24,
     "metadata": {},
     "output_type": "execute_result"
    }
   ],
   "source": [
    "# convert validation_subset.csv to dataframe \n",
    "df_validatation_subset = pd.read_csv('./test/validation_subset.csv')\n",
    "df_validatation_subset.head()"
   ]
  },
  {
   "cell_type": "code",
   "execution_count": 31,
   "metadata": {},
   "outputs": [
    {
     "data": {
      "text/plain": [
       "10    1077\n",
       "9      996\n",
       "4      994\n",
       "5      841\n",
       "7      718\n",
       "2      537\n",
       "3      500\n",
       "6      359\n",
       "8      128\n",
       "Name: category_num, dtype: int64"
      ]
     },
     "execution_count": 31,
     "metadata": {},
     "output_type": "execute_result"
    }
   ],
   "source": [
    "# #convert validation subset to dataframe\n",
    "# df_validation_subset = pd.read_csv('./test/validation_subset.csv')\n",
    "# df_validation_subset.head()\n",
    "\n",
    "# #count number of catetogy_num in validation_subset.csv\n",
    " \n",
    "# df_validatation_subset.category_num.value_counts()"
   ]
  },
  {
   "cell_type": "code",
   "execution_count": 32,
   "metadata": {},
   "outputs": [
    {
     "data": {
      "text/plain": [
       "9     1142\n",
       "4     1064\n",
       "5      928\n",
       "10     740\n",
       "7      708\n",
       "2      548\n",
       "3      395\n",
       "6      385\n",
       "8      236\n",
       "0        4\n",
       "Name: category_num, dtype: int64"
      ]
     },
     "execution_count": 32,
     "metadata": {},
     "output_type": "execute_result"
    }
   ],
   "source": [
    "# #convert solution to csv\n",
    "# df_test_solution = pd.read_csv('./test/solution.csv')\n",
    "# df_test_solution.category_num.value_counts()\n",
    "\n"
   ]
  },
  {
   "cell_type": "code",
   "execution_count": 12,
   "metadata": {},
   "outputs": [
    {
     "name": "stdout",
     "output_type": "stream",
     "text": [
      "Found 622023 unique tokens.\n"
     ]
    }
   ],
   "source": [
    "#pandas\n",
    "# # The maximum number of words to be used. (most frequent)\n",
    "MAX_NB_WORDS =50000\n",
    "# Max number of words in each abstract\n",
    "MAX_SEQUENCE_LENGTH = 300\n",
    "# This is fixed.\n",
    "EMBEDDING_DIM = 100\n",
    "\n",
    "from keras.preprocessing.text import Tokenizer\n",
    "\n",
    "tokenizer = Tokenizer(num_words=MAX_NB_WORDS, filters='!\"#$%&()*+,-./:;<=>?@[\\]^_`{|}~', lower=True) \n",
    "tokenizer.fit_on_texts(df_data['abstract'].values) # fit the tokenizer on the abstracts\n",
    "word_index = tokenizer.word_index\n",
    "print('Found %s unique tokens.' % len(word_index))"
   ]
  },
  {
   "cell_type": "code",
   "execution_count": 13,
   "metadata": {},
   "outputs": [
    {
     "ename": "NameError",
     "evalue": "name 'df_dask_data' is not defined",
     "output_type": "error",
     "traceback": [
      "\u001b[1;31m---------------------------------------------------------------------------\u001b[0m",
      "\u001b[1;31mNameError\u001b[0m                                 Traceback (most recent call last)",
      "Input \u001b[1;32mIn [13]\u001b[0m, in \u001b[0;36m<module>\u001b[1;34m\u001b[0m\n\u001b[0;32m      9\u001b[0m \u001b[38;5;28;01mfrom\u001b[39;00m \u001b[38;5;21;01mkeras\u001b[39;00m\u001b[38;5;21;01m.\u001b[39;00m\u001b[38;5;21;01mpreprocessing\u001b[39;00m\u001b[38;5;21;01m.\u001b[39;00m\u001b[38;5;21;01mtext\u001b[39;00m \u001b[38;5;28;01mimport\u001b[39;00m Tokenizer\n\u001b[0;32m     11\u001b[0m tokenizer \u001b[38;5;241m=\u001b[39m Tokenizer(num_words\u001b[38;5;241m=\u001b[39mMAX_NB_WORDS, filters\u001b[38;5;241m=\u001b[39m\u001b[38;5;124m'\u001b[39m\u001b[38;5;124m!\u001b[39m\u001b[38;5;124m\"\u001b[39m\u001b[38;5;124m#$\u001b[39m\u001b[38;5;124m%\u001b[39m\u001b[38;5;124m&()*+,-./:;<=>?@[\u001b[39m\u001b[38;5;124m\\\u001b[39m\u001b[38;5;124m]^_`\u001b[39m\u001b[38;5;124m{\u001b[39m\u001b[38;5;124m|}~\u001b[39m\u001b[38;5;124m'\u001b[39m, lower\u001b[38;5;241m=\u001b[39m\u001b[38;5;28;01mTrue\u001b[39;00m) \n\u001b[1;32m---> 12\u001b[0m tokenizer\u001b[38;5;241m.\u001b[39mfit_on_texts(\u001b[43mdf_dask_data\u001b[49m\u001b[38;5;241m.\u001b[39mabstract) \u001b[38;5;66;03m# fit the tokenizer on the abstracts\u001b[39;00m\n\u001b[0;32m     13\u001b[0m word_index \u001b[38;5;241m=\u001b[39m tokenizer\u001b[38;5;241m.\u001b[39mword_index\n\u001b[0;32m     14\u001b[0m \u001b[38;5;28mprint\u001b[39m(\u001b[38;5;124m'\u001b[39m\u001b[38;5;124mFound \u001b[39m\u001b[38;5;132;01m%s\u001b[39;00m\u001b[38;5;124m unique tokens.\u001b[39m\u001b[38;5;124m'\u001b[39m \u001b[38;5;241m%\u001b[39m \u001b[38;5;28mlen\u001b[39m(word_index))\n",
      "\u001b[1;31mNameError\u001b[0m: name 'df_dask_data' is not defined"
     ]
    }
   ],
   "source": [
    "#dask\n",
    "# # The maximum number of words to be used. (most frequent)\n",
    "MAX_NB_WORDS =50000\n",
    "# Max number of words in each abstract\n",
    "MAX_SEQUENCE_LENGTH = 300\n",
    "# This is fixed.\n",
    "EMBEDDING_DIM = 100\n",
    "\n",
    "from keras.preprocessing.text import Tokenizer\n",
    "\n",
    "tokenizer = Tokenizer(num_words=MAX_NB_WORDS, filters='!\"#$%&()*+,-./:;<=>?@[\\]^_`{|}~', lower=True) \n",
    "tokenizer.fit_on_texts(df_dask_data.abstract) # fit the tokenizer on the abstracts\n",
    "word_index = tokenizer.word_index\n",
    "print('Found %s unique tokens.' % len(word_index))"
   ]
  },
  {
   "cell_type": "code",
   "execution_count": null,
   "metadata": {},
   "outputs": [
    {
     "name": "stdout",
     "output_type": "stream",
     "text": [
      "Shape of data tensor: (390603, 300)\n"
     ]
    }
   ],
   "source": [
    "from keras.preprocessing.sequence import pad_sequences\n",
    "\n",
    "X = tokenizer.texts_to_sequences(df_data['abstract'].values)\n",
    "X = pad_sequences(X, maxlen=MAX_SEQUENCE_LENGTH)\n",
    "print('Shape of data tensor:', X.shape)\n",
    "\n",
    "\n",
    " \n"
   ]
  },
  {
   "cell_type": "code",
   "execution_count": null,
   "metadata": {},
   "outputs": [
    {
     "name": "stdout",
     "output_type": "stream",
     "text": [
      "Shape of data tensor: (390603, 300)\n"
     ]
    }
   ],
   "source": [
    "#dask\n",
    "from keras.preprocessing.sequence import pad_sequences\n",
    "\n",
    "\n",
    "\n",
    "X = tokenizer.texts_to_sequences(df_dask_data.abstract)\n",
    "X = pad_sequences(X, maxlen=MAX_SEQUENCE_LENGTH)\n",
    "print('Shape of data tensor:', X.shape)"
   ]
  },
  {
   "cell_type": "code",
   "execution_count": null,
   "metadata": {},
   "outputs": [
    {
     "name": "stdout",
     "output_type": "stream",
     "text": [
      "Shape of label tensor: (390603, 156)\n"
     ]
    }
   ],
   "source": [
    "#pandas\n",
    "\n",
    "Y = pd.get_dummies(df_data['category']).values\n",
    "print('Shape of label tensor:', Y.shape)\n"
   ]
  },
  {
   "cell_type": "code",
   "execution_count": null,
   "metadata": {},
   "outputs": [
    {
     "name": "stdout",
     "output_type": "stream",
     "text": [
      "Shape of label tensor: (390603, 156)\n"
     ]
    }
   ],
   "source": [
    "#dask\n",
    "\n",
    "Y = pd.get_dummies(df_dask_data.category)\n",
    "print('Shape of label tensor:', Y.shape)\n"
   ]
  },
  {
   "cell_type": "code",
   "execution_count": null,
   "metadata": {},
   "outputs": [
    {
     "name": "stdout",
     "output_type": "stream",
     "text": [
      "(351542, 300) (351542, 156)\n",
      "(39061, 300) (39061, 156)\n"
     ]
    }
   ],
   "source": [
    "X_train, X_test, Y_train, Y_test = train_test_split(X,Y, test_size = 0.10, random_state = 42)\n",
    "print(X_train.shape,Y_train.shape)\n",
    "print(X_test.shape,Y_test.shape)\n"
   ]
  },
  {
   "cell_type": "code",
   "execution_count": null,
   "metadata": {},
   "outputs": [],
   "source": [
    "from keras.callbacks import ModelCheckpoint, EarlyStopping\n",
    "from keras.models import Sequential\n",
    "from keras.layers import Dense, Embedding, LSTM, SpatialDropout1D"
   ]
  },
  {
   "cell_type": "code",
   "execution_count": null,
   "metadata": {},
   "outputs": [],
   "source": [
    "# # save trained model to disk\n",
    "# model.save('./Test_model/model1.h5')\n",
    "\n",
    "# # # import load model module \n",
    "\n",
    "from keras.models import *\n",
    "new_model = load_model('./Saved_model\\modelcolabbest.h5')"
   ]
  },
  {
   "cell_type": "code",
   "execution_count": null,
   "metadata": {},
   "outputs": [],
   "source": [
    "# accr = new_model.evaluate(X_test,Y_test)\n",
    "# print('Test set\\n  Loss: {:0.3f}\\n  Accuracy: {:0.3f}'.format(accr[0],accr[1]))"
   ]
  },
  {
   "cell_type": "code",
   "execution_count": null,
   "metadata": {},
   "outputs": [],
   "source": [
    "#dask\n",
    "# #csv to dask dataframe \n",
    "# df_dask_test=dd.read_csv('./Data/test.csv')\n",
    "\n",
    "#pandas df from csv \n",
    "df_test=pd.read_csv('./data/test.csv')\n",
    "\n",
    "#dask df from pandas df\n",
    "df_dask_test=dd.from_pandas(df_test,npartitions=5)\n"
   ]
  },
  {
   "cell_type": "code",
   "execution_count": null,
   "metadata": {},
   "outputs": [
    {
     "data": {
      "text/html": [
       "<div>\n",
       "<style scoped>\n",
       "    .dataframe tbody tr th:only-of-type {\n",
       "        vertical-align: middle;\n",
       "    }\n",
       "\n",
       "    .dataframe tbody tr th {\n",
       "        vertical-align: top;\n",
       "    }\n",
       "\n",
       "    .dataframe thead th {\n",
       "        text-align: right;\n",
       "    }\n",
       "</style>\n",
       "<table border=\"1\" class=\"dataframe\">\n",
       "  <thead>\n",
       "    <tr style=\"text-align: right;\">\n",
       "      <th></th>\n",
       "      <th>id</th>\n",
       "      <th>abstract</th>\n",
       "    </tr>\n",
       "  </thead>\n",
       "  <tbody>\n",
       "    <tr>\n",
       "      <th>0</th>\n",
       "      <td>430065</td>\n",
       "      <td>Depth maps obtained by commercial depth sens...</td>\n",
       "    </tr>\n",
       "    <tr>\n",
       "      <th>1</th>\n",
       "      <td>75226</td>\n",
       "      <td>When lambda expressions were introduced to t...</td>\n",
       "    </tr>\n",
       "    <tr>\n",
       "      <th>2</th>\n",
       "      <td>301990</td>\n",
       "      <td>We propose and demonstrate that a gamma-gamm...</td>\n",
       "    </tr>\n",
       "    <tr>\n",
       "      <th>3</th>\n",
       "      <td>301001</td>\n",
       "      <td>In physics labs, students experience a wide ...</td>\n",
       "    </tr>\n",
       "    <tr>\n",
       "      <th>4</th>\n",
       "      <td>280179</td>\n",
       "      <td>The existence of local minima for one-hidden...</td>\n",
       "    </tr>\n",
       "  </tbody>\n",
       "</table>\n",
       "</div>"
      ],
      "text/plain": [
       "       id                                           abstract\n",
       "0  430065    Depth maps obtained by commercial depth sens...\n",
       "1   75226    When lambda expressions were introduced to t...\n",
       "2  301990    We propose and demonstrate that a gamma-gamm...\n",
       "3  301001    In physics labs, students experience a wide ...\n",
       "4  280179    The existence of local minima for one-hidden..."
      ]
     },
     "execution_count": 127,
     "metadata": {},
     "output_type": "execute_result"
    }
   ],
   "source": [
    "df_dask_test.head()"
   ]
  },
  {
   "cell_type": "code",
   "execution_count": null,
   "metadata": {},
   "outputs": [
    {
     "name": "stdout",
     "output_type": "stream",
     "text": [
      "Currently processing Index no.:   0 and prediction is:  62\n",
      "Currently processing Index no.:   1 and prediction is:  7\n",
      "Currently processing Index no.:   2 and prediction is:  123\n",
      "Currently processing Index no.:   3 and prediction is:  40\n",
      "Currently processing Index no.:   4 and prediction is:  113\n",
      "Currently processing Index no.:   5 and prediction is:  110\n",
      "Currently processing Index no.:   6 and prediction is:  110\n",
      "Currently processing Index no.:   7 and prediction is:  110\n",
      "Currently processing Index no.:   8 and prediction is:  110\n",
      "Currently processing Index no.:   9 and prediction is:  8\n",
      "Currently processing Index no.:   10 and prediction is:  28\n",
      "Currently processing Index no.:   11 and prediction is:  110\n",
      "Currently processing Index no.:   12 and prediction is:  45\n",
      "Currently processing Index no.:   13 and prediction is:  24\n",
      "Currently processing Index no.:   14 and prediction is:  5\n",
      "Currently processing Index no.:   15 and prediction is:  24\n",
      "Currently processing Index no.:   16 and prediction is:  40\n",
      "Currently processing Index no.:   17 and prediction is:  6\n",
      "Currently processing Index no.:   18 and prediction is:  28\n",
      "Currently processing Index no.:   19 and prediction is:  118\n",
      "Currently processing Index no.:   20 and prediction is:  28\n",
      "Currently processing Index no.:   21 and prediction is:  45\n",
      "Currently processing Index no.:   22 and prediction is:  40\n",
      "Currently processing Index no.:   23 and prediction is:  24\n",
      "Currently processing Index no.:   24 and prediction is:  28\n",
      "Currently processing Index no.:   25 and prediction is:  73\n",
      "Currently processing Index no.:   26 and prediction is:  110\n",
      "Currently processing Index no.:   27 and prediction is:  136\n",
      "Currently processing Index no.:   28 and prediction is:  116\n",
      "Currently processing Index no.:   29 and prediction is:  6\n",
      "Currently processing Index no.:   30 and prediction is:  35\n",
      "Currently processing Index no.:   31 and prediction is:  110\n",
      "Currently processing Index no.:   32 and prediction is:  40\n",
      "Currently processing Index no.:   33 and prediction is:  113\n",
      "Currently processing Index no.:   34 and prediction is:  127\n",
      "Currently processing Index no.:   35 and prediction is:  121\n",
      "Currently processing Index no.:   36 and prediction is:  128\n",
      "Currently processing Index no.:   37 and prediction is:  24\n",
      "Currently processing Index no.:   38 and prediction is:  2\n",
      "Currently processing Index no.:   39 and prediction is:  24\n",
      "Currently processing Index no.:   40 and prediction is:  24\n",
      "Currently processing Index no.:   41 and prediction is:  28\n",
      "Currently processing Index no.:   42 and prediction is:  24\n",
      "Currently processing Index no.:   43 and prediction is:  46\n",
      "Currently processing Index no.:   44 and prediction is:  10\n",
      "Currently processing Index no.:   45 and prediction is:  24\n",
      "Currently processing Index no.:   46 and prediction is:  110\n",
      "Currently processing Index no.:   47 and prediction is:  7\n",
      "Currently processing Index no.:   48 and prediction is:  125\n",
      "Currently processing Index no.:   49 and prediction is:  10\n",
      "Currently processing Index no.:   50 and prediction is:  41\n",
      "Currently processing Index no.:   51 and prediction is:  6\n",
      "Currently processing Index no.:   52 and prediction is:  35\n",
      "Currently processing Index no.:   53 and prediction is:  40\n",
      "Currently processing Index no.:   54 and prediction is:  7\n",
      "Currently processing Index no.:   55 and prediction is:  24\n",
      "Currently processing Index no.:   56 and prediction is:  24\n",
      "Currently processing Index no.:   57 and prediction is:  116\n",
      "Currently processing Index no.:   58 and prediction is:  24\n",
      "Currently processing Index no.:   59 and prediction is:  37\n",
      "Currently processing Index no.:   60 and prediction is:  10\n",
      "Currently processing Index no.:   61 and prediction is:  62\n",
      "Currently processing Index no.:   62 and prediction is:  110\n",
      "Currently processing Index no.:   63 and prediction is:  135\n",
      "Currently processing Index no.:   64 and prediction is:  123\n",
      "Currently processing Index no.:   65 and prediction is:  35\n",
      "Currently processing Index no.:   66 and prediction is:  6\n",
      "Currently processing Index no.:   67 and prediction is:  110\n",
      "Currently processing Index no.:   68 and prediction is:  7\n",
      "Currently processing Index no.:   69 and prediction is:  128\n",
      "Currently processing Index no.:   70 and prediction is:  6\n",
      "Currently processing Index no.:   71 and prediction is:  32\n",
      "Currently processing Index no.:   72 and prediction is:  118\n",
      "Currently processing Index no.:   73 and prediction is:  6\n",
      "Currently processing Index no.:   74 and prediction is:  6\n",
      "Currently processing Index no.:   75 and prediction is:  118\n",
      "Currently processing Index no.:   76 and prediction is:  6\n",
      "Currently processing Index no.:   77 and prediction is:  110\n",
      "Currently processing Index no.:   78 and prediction is:  37\n",
      "Currently processing Index no.:   79 and prediction is:  110\n",
      "Currently processing Index no.:   80 and prediction is:  110\n",
      "Currently processing Index no.:   81 and prediction is:  35\n",
      "Currently processing Index no.:   82 and prediction is:  138\n",
      "Currently processing Index no.:   83 and prediction is:  40\n",
      "Currently processing Index no.:   84 and prediction is:  129\n",
      "Currently processing Index no.:   85 and prediction is:  123\n",
      "Currently processing Index no.:   86 and prediction is:  45\n",
      "Currently processing Index no.:   87 and prediction is:  6\n",
      "Currently processing Index no.:   88 and prediction is:  10\n",
      "Currently processing Index no.:   89 and prediction is:  28\n",
      "Currently processing Index no.:   90 and prediction is:  40\n",
      "Currently processing Index no.:   91 and prediction is:  110\n",
      "Currently processing Index no.:   92 and prediction is:  10\n",
      "Currently processing Index no.:   93 and prediction is:  26\n",
      "Currently processing Index no.:   94 and prediction is:  37\n",
      "Currently processing Index no.:   95 and prediction is:  128\n"
     ]
    },
    {
     "ename": "KeyboardInterrupt",
     "evalue": "",
     "output_type": "error",
     "traceback": [
      "\u001b[1;31m---------------------------------------------------------------------------\u001b[0m",
      "\u001b[1;31mKeyboardInterrupt\u001b[0m                         Traceback (most recent call last)",
      "Input \u001b[1;32mIn [129]\u001b[0m, in \u001b[0;36m<module>\u001b[1;34m\u001b[0m\n\u001b[0;32m      3\u001b[0m seq \u001b[38;5;241m=\u001b[39m tokenizer\u001b[38;5;241m.\u001b[39mtexts_to_sequences(new_abstract)\n\u001b[0;32m      4\u001b[0m padded \u001b[38;5;241m=\u001b[39m pad_sequences(seq, maxlen\u001b[38;5;241m=\u001b[39mMAX_SEQUENCE_LENGTH)\n\u001b[1;32m----> 5\u001b[0m pred \u001b[38;5;241m=\u001b[39m \u001b[43mnew_model\u001b[49m\u001b[38;5;241;43m.\u001b[39;49m\u001b[43mpredict\u001b[49m\u001b[43m(\u001b[49m\u001b[43mpadded\u001b[49m\u001b[43m)\u001b[49m\n\u001b[0;32m      6\u001b[0m \u001b[38;5;28mprint\u001b[39m (\u001b[38;5;124m'\u001b[39m\u001b[38;5;124mCurrently processing Index no.:  \u001b[39m\u001b[38;5;124m'\u001b[39m, index, \u001b[38;5;124m'\u001b[39m\u001b[38;5;124mand prediction is: \u001b[39m\u001b[38;5;124m'\u001b[39m, pred\u001b[38;5;241m.\u001b[39margmax())\n",
      "File \u001b[1;32mc:\\Users\\074be\\Documents\\DataRush\\Datarush\\lib\\site-packages\\keras\\utils\\traceback_utils.py:64\u001b[0m, in \u001b[0;36mfilter_traceback.<locals>.error_handler\u001b[1;34m(*args, **kwargs)\u001b[0m\n\u001b[0;32m     62\u001b[0m filtered_tb \u001b[38;5;241m=\u001b[39m \u001b[38;5;28;01mNone\u001b[39;00m\n\u001b[0;32m     63\u001b[0m \u001b[38;5;28;01mtry\u001b[39;00m:\n\u001b[1;32m---> 64\u001b[0m   \u001b[38;5;28;01mreturn\u001b[39;00m fn(\u001b[38;5;241m*\u001b[39margs, \u001b[38;5;241m*\u001b[39m\u001b[38;5;241m*\u001b[39mkwargs)\n\u001b[0;32m     65\u001b[0m \u001b[38;5;28;01mexcept\u001b[39;00m \u001b[38;5;167;01mException\u001b[39;00m \u001b[38;5;28;01mas\u001b[39;00m e:  \u001b[38;5;66;03m# pylint: disable=broad-except\u001b[39;00m\n\u001b[0;32m     66\u001b[0m   filtered_tb \u001b[38;5;241m=\u001b[39m _process_traceback_frames(e\u001b[38;5;241m.\u001b[39m__traceback__)\n",
      "File \u001b[1;32mc:\\Users\\074be\\Documents\\DataRush\\Datarush\\lib\\site-packages\\keras\\engine\\training.py:1789\u001b[0m, in \u001b[0;36mModel.predict\u001b[1;34m(self, x, batch_size, verbose, steps, callbacks, max_queue_size, workers, use_multiprocessing)\u001b[0m\n\u001b[0;32m   1787\u001b[0m \u001b[38;5;28;01mfor\u001b[39;00m step \u001b[38;5;129;01min\u001b[39;00m data_handler\u001b[38;5;241m.\u001b[39msteps():\n\u001b[0;32m   1788\u001b[0m   callbacks\u001b[38;5;241m.\u001b[39mon_predict_batch_begin(step)\n\u001b[1;32m-> 1789\u001b[0m   tmp_batch_outputs \u001b[38;5;241m=\u001b[39m \u001b[38;5;28;43mself\u001b[39;49m\u001b[38;5;241;43m.\u001b[39;49m\u001b[43mpredict_function\u001b[49m\u001b[43m(\u001b[49m\u001b[43miterator\u001b[49m\u001b[43m)\u001b[49m\n\u001b[0;32m   1790\u001b[0m   \u001b[38;5;28;01mif\u001b[39;00m data_handler\u001b[38;5;241m.\u001b[39mshould_sync:\n\u001b[0;32m   1791\u001b[0m     context\u001b[38;5;241m.\u001b[39masync_wait()\n",
      "File \u001b[1;32mc:\\Users\\074be\\Documents\\DataRush\\Datarush\\lib\\site-packages\\tensorflow\\python\\util\\traceback_utils.py:150\u001b[0m, in \u001b[0;36mfilter_traceback.<locals>.error_handler\u001b[1;34m(*args, **kwargs)\u001b[0m\n\u001b[0;32m    148\u001b[0m filtered_tb \u001b[38;5;241m=\u001b[39m \u001b[38;5;28;01mNone\u001b[39;00m\n\u001b[0;32m    149\u001b[0m \u001b[38;5;28;01mtry\u001b[39;00m:\n\u001b[1;32m--> 150\u001b[0m   \u001b[38;5;28;01mreturn\u001b[39;00m fn(\u001b[38;5;241m*\u001b[39margs, \u001b[38;5;241m*\u001b[39m\u001b[38;5;241m*\u001b[39mkwargs)\n\u001b[0;32m    151\u001b[0m \u001b[38;5;28;01mexcept\u001b[39;00m \u001b[38;5;167;01mException\u001b[39;00m \u001b[38;5;28;01mas\u001b[39;00m e:\n\u001b[0;32m    152\u001b[0m   filtered_tb \u001b[38;5;241m=\u001b[39m _process_traceback_frames(e\u001b[38;5;241m.\u001b[39m__traceback__)\n",
      "File \u001b[1;32mc:\\Users\\074be\\Documents\\DataRush\\Datarush\\lib\\site-packages\\tensorflow\\python\\eager\\def_function.py:910\u001b[0m, in \u001b[0;36mFunction.__call__\u001b[1;34m(self, *args, **kwds)\u001b[0m\n\u001b[0;32m    907\u001b[0m compiler \u001b[38;5;241m=\u001b[39m \u001b[38;5;124m\"\u001b[39m\u001b[38;5;124mxla\u001b[39m\u001b[38;5;124m\"\u001b[39m \u001b[38;5;28;01mif\u001b[39;00m \u001b[38;5;28mself\u001b[39m\u001b[38;5;241m.\u001b[39m_jit_compile \u001b[38;5;28;01melse\u001b[39;00m \u001b[38;5;124m\"\u001b[39m\u001b[38;5;124mnonXla\u001b[39m\u001b[38;5;124m\"\u001b[39m\n\u001b[0;32m    909\u001b[0m \u001b[38;5;28;01mwith\u001b[39;00m OptionalXlaContext(\u001b[38;5;28mself\u001b[39m\u001b[38;5;241m.\u001b[39m_jit_compile):\n\u001b[1;32m--> 910\u001b[0m   result \u001b[38;5;241m=\u001b[39m \u001b[38;5;28mself\u001b[39m\u001b[38;5;241m.\u001b[39m_call(\u001b[38;5;241m*\u001b[39margs, \u001b[38;5;241m*\u001b[39m\u001b[38;5;241m*\u001b[39mkwds)\n\u001b[0;32m    912\u001b[0m new_tracing_count \u001b[38;5;241m=\u001b[39m \u001b[38;5;28mself\u001b[39m\u001b[38;5;241m.\u001b[39mexperimental_get_tracing_count()\n\u001b[0;32m    913\u001b[0m without_tracing \u001b[38;5;241m=\u001b[39m (tracing_count \u001b[38;5;241m==\u001b[39m new_tracing_count)\n",
      "File \u001b[1;32mc:\\Users\\074be\\Documents\\DataRush\\Datarush\\lib\\site-packages\\tensorflow\\python\\eager\\def_function.py:949\u001b[0m, in \u001b[0;36mFunction._call\u001b[1;34m(self, *args, **kwds)\u001b[0m\n\u001b[0;32m    946\u001b[0m \u001b[38;5;28mself\u001b[39m\u001b[38;5;241m.\u001b[39m_lock\u001b[38;5;241m.\u001b[39mrelease()\n\u001b[0;32m    947\u001b[0m \u001b[38;5;66;03m# In this case we have not created variables on the first call. So we can\u001b[39;00m\n\u001b[0;32m    948\u001b[0m \u001b[38;5;66;03m# run the first trace but we should fail if variables are created.\u001b[39;00m\n\u001b[1;32m--> 949\u001b[0m results \u001b[38;5;241m=\u001b[39m \u001b[38;5;28mself\u001b[39m\u001b[38;5;241m.\u001b[39m_stateful_fn(\u001b[38;5;241m*\u001b[39margs, \u001b[38;5;241m*\u001b[39m\u001b[38;5;241m*\u001b[39mkwds)\n\u001b[0;32m    950\u001b[0m \u001b[38;5;28;01mif\u001b[39;00m \u001b[38;5;28mself\u001b[39m\u001b[38;5;241m.\u001b[39m_created_variables \u001b[38;5;129;01mand\u001b[39;00m \u001b[38;5;129;01mnot\u001b[39;00m ALLOW_DYNAMIC_VARIABLE_CREATION:\n\u001b[0;32m    951\u001b[0m   \u001b[38;5;28;01mraise\u001b[39;00m \u001b[38;5;167;01mValueError\u001b[39;00m(\u001b[38;5;124m\"\u001b[39m\u001b[38;5;124mCreating variables on a non-first call to a function\u001b[39m\u001b[38;5;124m\"\u001b[39m\n\u001b[0;32m    952\u001b[0m                    \u001b[38;5;124m\"\u001b[39m\u001b[38;5;124m decorated with tf.function.\u001b[39m\u001b[38;5;124m\"\u001b[39m)\n",
      "File \u001b[1;32mc:\\Users\\074be\\Documents\\DataRush\\Datarush\\lib\\site-packages\\tensorflow\\python\\eager\\function.py:3130\u001b[0m, in \u001b[0;36mFunction.__call__\u001b[1;34m(self, *args, **kwargs)\u001b[0m\n\u001b[0;32m   3127\u001b[0m \u001b[38;5;28;01mwith\u001b[39;00m \u001b[38;5;28mself\u001b[39m\u001b[38;5;241m.\u001b[39m_lock:\n\u001b[0;32m   3128\u001b[0m   (graph_function,\n\u001b[0;32m   3129\u001b[0m    filtered_flat_args) \u001b[38;5;241m=\u001b[39m \u001b[38;5;28mself\u001b[39m\u001b[38;5;241m.\u001b[39m_maybe_define_function(args, kwargs)\n\u001b[1;32m-> 3130\u001b[0m \u001b[38;5;28;01mreturn\u001b[39;00m \u001b[43mgraph_function\u001b[49m\u001b[38;5;241;43m.\u001b[39;49m\u001b[43m_call_flat\u001b[49m\u001b[43m(\u001b[49m\n\u001b[0;32m   3131\u001b[0m \u001b[43m    \u001b[49m\u001b[43mfiltered_flat_args\u001b[49m\u001b[43m,\u001b[49m\u001b[43m \u001b[49m\u001b[43mcaptured_inputs\u001b[49m\u001b[38;5;241;43m=\u001b[39;49m\u001b[43mgraph_function\u001b[49m\u001b[38;5;241;43m.\u001b[39;49m\u001b[43mcaptured_inputs\u001b[49m\u001b[43m)\u001b[49m\n",
      "File \u001b[1;32mc:\\Users\\074be\\Documents\\DataRush\\Datarush\\lib\\site-packages\\tensorflow\\python\\eager\\function.py:1959\u001b[0m, in \u001b[0;36mConcreteFunction._call_flat\u001b[1;34m(self, args, captured_inputs, cancellation_manager)\u001b[0m\n\u001b[0;32m   1955\u001b[0m possible_gradient_type \u001b[38;5;241m=\u001b[39m gradients_util\u001b[38;5;241m.\u001b[39mPossibleTapeGradientTypes(args)\n\u001b[0;32m   1956\u001b[0m \u001b[38;5;28;01mif\u001b[39;00m (possible_gradient_type \u001b[38;5;241m==\u001b[39m gradients_util\u001b[38;5;241m.\u001b[39mPOSSIBLE_GRADIENT_TYPES_NONE\n\u001b[0;32m   1957\u001b[0m     \u001b[38;5;129;01mand\u001b[39;00m executing_eagerly):\n\u001b[0;32m   1958\u001b[0m   \u001b[38;5;66;03m# No tape is watching; skip to running the function.\u001b[39;00m\n\u001b[1;32m-> 1959\u001b[0m   \u001b[38;5;28;01mreturn\u001b[39;00m \u001b[38;5;28mself\u001b[39m\u001b[38;5;241m.\u001b[39m_build_call_outputs(\u001b[38;5;28;43mself\u001b[39;49m\u001b[38;5;241;43m.\u001b[39;49m\u001b[43m_inference_function\u001b[49m\u001b[38;5;241;43m.\u001b[39;49m\u001b[43mcall\u001b[49m\u001b[43m(\u001b[49m\n\u001b[0;32m   1960\u001b[0m \u001b[43m      \u001b[49m\u001b[43mctx\u001b[49m\u001b[43m,\u001b[49m\u001b[43m \u001b[49m\u001b[43margs\u001b[49m\u001b[43m,\u001b[49m\u001b[43m \u001b[49m\u001b[43mcancellation_manager\u001b[49m\u001b[38;5;241;43m=\u001b[39;49m\u001b[43mcancellation_manager\u001b[49m\u001b[43m)\u001b[49m)\n\u001b[0;32m   1961\u001b[0m forward_backward \u001b[38;5;241m=\u001b[39m \u001b[38;5;28mself\u001b[39m\u001b[38;5;241m.\u001b[39m_select_forward_and_backward_functions(\n\u001b[0;32m   1962\u001b[0m     args,\n\u001b[0;32m   1963\u001b[0m     possible_gradient_type,\n\u001b[0;32m   1964\u001b[0m     executing_eagerly)\n\u001b[0;32m   1965\u001b[0m forward_function, args_with_tangents \u001b[38;5;241m=\u001b[39m forward_backward\u001b[38;5;241m.\u001b[39mforward()\n",
      "File \u001b[1;32mc:\\Users\\074be\\Documents\\DataRush\\Datarush\\lib\\site-packages\\tensorflow\\python\\eager\\function.py:598\u001b[0m, in \u001b[0;36m_EagerDefinedFunction.call\u001b[1;34m(self, ctx, args, cancellation_manager)\u001b[0m\n\u001b[0;32m    596\u001b[0m \u001b[38;5;28;01mwith\u001b[39;00m _InterpolateFunctionError(\u001b[38;5;28mself\u001b[39m):\n\u001b[0;32m    597\u001b[0m   \u001b[38;5;28;01mif\u001b[39;00m cancellation_manager \u001b[38;5;129;01mis\u001b[39;00m \u001b[38;5;28;01mNone\u001b[39;00m:\n\u001b[1;32m--> 598\u001b[0m     outputs \u001b[38;5;241m=\u001b[39m \u001b[43mexecute\u001b[49m\u001b[38;5;241;43m.\u001b[39;49m\u001b[43mexecute\u001b[49m\u001b[43m(\u001b[49m\n\u001b[0;32m    599\u001b[0m \u001b[43m        \u001b[49m\u001b[38;5;28;43mstr\u001b[39;49m\u001b[43m(\u001b[49m\u001b[38;5;28;43mself\u001b[39;49m\u001b[38;5;241;43m.\u001b[39;49m\u001b[43msignature\u001b[49m\u001b[38;5;241;43m.\u001b[39;49m\u001b[43mname\u001b[49m\u001b[43m)\u001b[49m\u001b[43m,\u001b[49m\n\u001b[0;32m    600\u001b[0m \u001b[43m        \u001b[49m\u001b[43mnum_outputs\u001b[49m\u001b[38;5;241;43m=\u001b[39;49m\u001b[38;5;28;43mself\u001b[39;49m\u001b[38;5;241;43m.\u001b[39;49m\u001b[43m_num_outputs\u001b[49m\u001b[43m,\u001b[49m\n\u001b[0;32m    601\u001b[0m \u001b[43m        \u001b[49m\u001b[43minputs\u001b[49m\u001b[38;5;241;43m=\u001b[39;49m\u001b[43margs\u001b[49m\u001b[43m,\u001b[49m\n\u001b[0;32m    602\u001b[0m \u001b[43m        \u001b[49m\u001b[43mattrs\u001b[49m\u001b[38;5;241;43m=\u001b[39;49m\u001b[43mattrs\u001b[49m\u001b[43m,\u001b[49m\n\u001b[0;32m    603\u001b[0m \u001b[43m        \u001b[49m\u001b[43mctx\u001b[49m\u001b[38;5;241;43m=\u001b[39;49m\u001b[43mctx\u001b[49m\u001b[43m)\u001b[49m\n\u001b[0;32m    604\u001b[0m   \u001b[38;5;28;01melse\u001b[39;00m:\n\u001b[0;32m    605\u001b[0m     outputs \u001b[38;5;241m=\u001b[39m execute\u001b[38;5;241m.\u001b[39mexecute_with_cancellation(\n\u001b[0;32m    606\u001b[0m         \u001b[38;5;28mstr\u001b[39m(\u001b[38;5;28mself\u001b[39m\u001b[38;5;241m.\u001b[39msignature\u001b[38;5;241m.\u001b[39mname),\n\u001b[0;32m    607\u001b[0m         num_outputs\u001b[38;5;241m=\u001b[39m\u001b[38;5;28mself\u001b[39m\u001b[38;5;241m.\u001b[39m_num_outputs,\n\u001b[1;32m   (...)\u001b[0m\n\u001b[0;32m    610\u001b[0m         ctx\u001b[38;5;241m=\u001b[39mctx,\n\u001b[0;32m    611\u001b[0m         cancellation_manager\u001b[38;5;241m=\u001b[39mcancellation_manager)\n",
      "File \u001b[1;32mc:\\Users\\074be\\Documents\\DataRush\\Datarush\\lib\\site-packages\\tensorflow\\python\\eager\\execute.py:58\u001b[0m, in \u001b[0;36mquick_execute\u001b[1;34m(op_name, num_outputs, inputs, attrs, ctx, name)\u001b[0m\n\u001b[0;32m     56\u001b[0m \u001b[38;5;28;01mtry\u001b[39;00m:\n\u001b[0;32m     57\u001b[0m   ctx\u001b[38;5;241m.\u001b[39mensure_initialized()\n\u001b[1;32m---> 58\u001b[0m   tensors \u001b[38;5;241m=\u001b[39m \u001b[43mpywrap_tfe\u001b[49m\u001b[38;5;241;43m.\u001b[39;49m\u001b[43mTFE_Py_Execute\u001b[49m\u001b[43m(\u001b[49m\u001b[43mctx\u001b[49m\u001b[38;5;241;43m.\u001b[39;49m\u001b[43m_handle\u001b[49m\u001b[43m,\u001b[49m\u001b[43m \u001b[49m\u001b[43mdevice_name\u001b[49m\u001b[43m,\u001b[49m\u001b[43m \u001b[49m\u001b[43mop_name\u001b[49m\u001b[43m,\u001b[49m\n\u001b[0;32m     59\u001b[0m \u001b[43m                                      \u001b[49m\u001b[43minputs\u001b[49m\u001b[43m,\u001b[49m\u001b[43m \u001b[49m\u001b[43mattrs\u001b[49m\u001b[43m,\u001b[49m\u001b[43m \u001b[49m\u001b[43mnum_outputs\u001b[49m\u001b[43m)\u001b[49m\n\u001b[0;32m     60\u001b[0m \u001b[38;5;28;01mexcept\u001b[39;00m core\u001b[38;5;241m.\u001b[39m_NotOkStatusException \u001b[38;5;28;01mas\u001b[39;00m e:\n\u001b[0;32m     61\u001b[0m   \u001b[38;5;28;01mif\u001b[39;00m name \u001b[38;5;129;01mis\u001b[39;00m \u001b[38;5;129;01mnot\u001b[39;00m \u001b[38;5;28;01mNone\u001b[39;00m:\n",
      "\u001b[1;31mKeyboardInterrupt\u001b[0m: "
     ]
    }
   ],
   "source": [
    "for index, row in df_dask_test.iterrows():\n",
    "    new_abstract = [row['abstract']]\n",
    "    seq = tokenizer.texts_to_sequences(new_abstract)\n",
    "    padded = pad_sequences(seq, maxlen=MAX_SEQUENCE_LENGTH)\n",
    "    pred = new_model.predict(padded)\n",
    "    print ('Currently processing Index no.:  ', index, 'and prediction is: ', pred.argmax())\n",
    "    "
   ]
  },
  {
   "cell_type": "code",
   "execution_count": null,
   "metadata": {},
   "outputs": [],
   "source": []
  }
 ],
 "metadata": {
  "interpreter": {
   "hash": "4790f62c98cc977d4f5227ba65017f6cc521a753b4df0bc48a28a5c1d12d4ff8"
  },
  "kernelspec": {
   "display_name": "Python 3 (ipykernel)",
   "language": "python",
   "name": "python3"
  },
  "language_info": {
   "codemirror_mode": {
    "name": "ipython",
    "version": 3
   },
   "file_extension": ".py",
   "mimetype": "text/x-python",
   "name": "python",
   "nbconvert_exporter": "python",
   "pygments_lexer": "ipython3",
   "version": "3.9.9"
  }
 },
 "nbformat": 4,
 "nbformat_minor": 2
}
