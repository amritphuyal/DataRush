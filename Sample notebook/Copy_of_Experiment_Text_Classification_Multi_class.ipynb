{
  "cells": [
    {
      "cell_type": "code",
      "execution_count": null,
      "id": "7f24f670",
      "metadata": {
        "id": "7f24f670"
      },
      "outputs": [],
      "source": [
        "import re\n",
        "\n",
        "import pandas as pd\n",
        "import numpy as np\n",
        "\n",
        "from sklearn.feature_extraction.text import TfidfVectorizer\n",
        "from sklearn.preprocessing import LabelEncoder\n",
        "from sklearn.model_selection import train_test_split\n",
        "from sklearn.model_selection import cross_val_score\n",
        "from sklearn.svm import LinearSVC\n",
        "from sklearn.metrics import f1_score\n",
        "\n",
        "import matplotlib.pyplot as plt\n",
        "\n",
        "import spacy\n",
        "from nltk.stem import PorterStemmer\n",
        "\n",
        "nlp = spacy.load('en_core_web_sm')"
      ]
    },
    {
      "cell_type": "code",
      "execution_count": null,
      "id": "8fed0bef",
      "metadata": {
        "id": "8fed0bef"
      },
      "outputs": [],
      "source": [
        "# Reading the training and testing dataset\n",
        "df_train = pd.read_csv('')\n",
        "df_test = pd.read_csv('')"
      ]
    },
    {
      "cell_type": "code",
      "execution_count": null,
      "id": "r1ULwytfYsqs",
      "metadata": {
        "colab": {
          "base_uri": "https://localhost:8080/",
          "height": 248
        },
        "id": "r1ULwytfYsqs",
        "outputId": "23f98bde-e62a-4274-d4ac-af23b68e23e1"
      },
      "outputs": [
        {
          "data": {
            "image/png": "[encoded data removed]",
            "text/plain": [
              "<Figure size 432x288 with 1 Axes>"
            ]
          },
          "metadata": {
            "needs_background": "light"
          },
          "output_type": "display_data"
        }
      ],
      "source": [
        "# Distribution of data among the category\n",
        "df_train['category'].value_counts().plot(kind='bar')\n",
        "plt.axis('off')\n",
        "plt.show()"
      ]
    },
    {
      "cell_type": "code",
      "execution_count": null,
      "id": "POA9RM5ogzG-",
      "metadata": {
        "colab": {
          "base_uri": "https://localhost:8080/"
        },
        "id": "POA9RM5ogzG-",
        "outputId": "fb1ed9b2-7591-44a5-94da-3d9f331a473d"
      },
      "outputs": [
        {
          "data": {
            "text/plain": [
              "cs-LG        23414\n",
              "cs-CV        22943\n",
              "quant-ph-    14561\n",
              "cs-CL        11143\n",
              "hep-ph-      10863\n",
              "             ...  \n",
              "q-fin-EC        17\n",
              "astro-ph-        7\n",
              "q-alg-           2\n",
              "alg-geom-        1\n",
              "funct-an-        1\n",
              "Name: category, Length: 156, dtype: int64"
            ]
          },
          "execution_count": 4,
          "metadata": {},
          "output_type": "execute_result"
        }
      ],
      "source": [
        "df_train['category'].value_counts()"
      ]
    },
    {
      "cell_type": "markdown",
      "id": "McfehtrDeeEw",
      "metadata": {
        "id": "McfehtrDeeEw"
      },
      "source": [
        "**Observation**:\n",
        "The class is highly imbalanced and there are few classes which has very few records\n"
      ]
    },
    {
      "cell_type": "markdown",
      "id": "mHJkaXFrOuex",
      "metadata": {
        "id": "mHJkaXFrOuex"
      },
      "source": [
        "### Data Preprocessing"
      ]
    },
    {
      "cell_type": "code",
      "execution_count": null,
      "id": "WBNYuQVNqraT",
      "metadata": {
        "id": "WBNYuQVNqraT"
      },
      "outputs": [],
      "source": [
        "ps = PorterStemmer()"
      ]
    },
    {
      "cell_type": "code",
      "execution_count": null,
      "id": "IlUZhfiMnAOz",
      "metadata": {
        "id": "IlUZhfiMnAOz"
      },
      "outputs": [],
      "source": [
        "def clean_abstract(text):\n",
        "  text = re.sub('[^a-z\\s]', ' ', text.lower())\n",
        "  text = [i.lower() for i in text.split() if i not in nlp.Defaults.stop_words]\n",
        "  text = [ps.stem(i) for i in text]\n",
        "  text = ' '.join(text)\n",
        "  text.replace('\\n',' ')\n",
        "  return text"
      ]
    },
    {
      "cell_type": "code",
      "execution_count": null,
      "id": "RaKRUeF_nBK6",
      "metadata": {
        "id": "RaKRUeF_nBK6"
      },
      "outputs": [],
      "source": [
        "df_train['abstract'] = df_train['abstract'].apply(clean_abstract)\n",
        "df_test['abstract'] = df_test['abstract'].apply(clean_abstract)"
      ]
    },
    {
      "cell_type": "markdown",
      "id": "QPnjSjdgl4BG",
      "metadata": {
        "id": "QPnjSjdgl4BG"
      },
      "source": [
        "##### Text vectorization"
      ]
    },
    {
      "cell_type": "code",
      "execution_count": null,
      "id": "TYwWnDHDfCO0",
      "metadata": {
        "id": "TYwWnDHDfCO0"
      },
      "outputs": [],
      "source": [
        "X_train, y_train = df_train['abstract'],df_train['category']\n",
        "X_test, y_test = df_test['abstract'],df_test['category']"
      ]
    },
    {
      "cell_type": "code",
      "execution_count": null,
      "id": "ACuXGA9vfLuf",
      "metadata": {
        "id": "ACuXGA9vfLuf"
      },
      "outputs": [],
      "source": [
        "label_encoder = LabelEncoder().fit(y_train)\n",
        "\n",
        "y_train = label_encoder.transform(y_train)\n",
        "y_test = label_encoder.transform(y_test)"
      ]
    },
    {
      "cell_type": "code",
      "execution_count": null,
      "id": "kJO1EuU7fliV",
      "metadata": {
        "id": "kJO1EuU7fliV"
      },
      "outputs": [],
      "source": [
        "tfidf = TfidfVectorizer(max_features=10000, stop_words='english', ngram_range=(1,1))"
      ]
    },
    {
      "cell_type": "code",
      "execution_count": null,
      "id": "TI9ZVLWCXswm",
      "metadata": {
        "id": "TI9ZVLWCXswm"
      },
      "outputs": [],
      "source": [
        "tfidf_vectorizer = tfidf.fit(X_train)\n",
        "\n",
        "X_train = tfidf_vectorizer.transform(X_train)\n",
        "X_test = tfidf_vectorizer.transform(X_test)"
      ]
    },
    {
      "cell_type": "markdown",
      "id": "983E1tMuestq",
      "metadata": {
        "id": "983E1tMuestq"
      },
      "source": [
        "### Classification using under sampling and over sampling"
      ]
    },
    {
      "cell_type": "code",
      "execution_count": null,
      "id": "x4ecv6lhhyA_",
      "metadata": {
        "id": "x4ecv6lhhyA_"
      },
      "outputs": [],
      "source": [
        "from sklearn.svm import LinearSVC"
      ]
    },
    {
      "cell_type": "code",
      "execution_count": null,
      "id": "RFCVta2ufAnU",
      "metadata": {
        "id": "RFCVta2ufAnU"
      },
      "outputs": [],
      "source": [
        "from imblearn.over_sampling import SMOTE\n",
        "from imblearn.under_sampling import RandomUnderSampler\n",
        "from collections import Counter"
      ]
    },
    {
      "cell_type": "code",
      "execution_count": null,
      "id": "rSxRSdo_tGew",
      "metadata": {
        "id": "rSxRSdo_tGew"
      },
      "outputs": [],
      "source": [
        "def sampling_strategy(y,n_samples, t='majority'):\n",
        "    target_classes = ''\n",
        "    if t == 'majority':\n",
        "        target_classes = {k:v for k,v in dict(Counter(y)).items() if v > n_samples}\n",
        "    elif t == 'minority':\n",
        "        # Since SMOTE depends on KNN, filtering out those samples that occur less than 10 times\n",
        "        target_classes = {k:v for k,v in dict(Counter(y)).items() if v < n_samples and v > 10}\n",
        "    sampling_strategy = {k:n_samples for k,v in target_classes.items()}\n",
        "    return sampling_strategy"
      ]
    },
    {
      "cell_type": "code",
      "execution_count": null,
      "id": "crH3Vqwp1h_i",
      "metadata": {
        "id": "crH3Vqwp1h_i"
      },
      "outputs": [],
      "source": [
        "over_sampler_ss = sampling_strategy(y_train,1000,t='minority')"
      ]
    },
    {
      "cell_type": "code",
      "execution_count": null,
      "id": "vntwYt1iY0tX",
      "metadata": {
        "id": "vntwYt1iY0tX"
      },
      "outputs": [],
      "source": [
        "under_sampler_ss = sampling_strategy(y_train,8000,t='majority')"
      ]
    },
    {
      "cell_type": "code",
      "execution_count": null,
      "id": "szuCoHS18L81",
      "metadata": {
        "id": "szuCoHS18L81"
      },
      "outputs": [],
      "source": [
        "over = SMOTE(sampling_strategy=over_sampler_ss)"
      ]
    },
    {
      "cell_type": "code",
      "execution_count": null,
      "id": "nt4CWoRCWUp-",
      "metadata": {
        "id": "nt4CWoRCWUp-"
      },
      "outputs": [],
      "source": [
        "under = RandomUnderSampler(sampling_strategy=under_sampler_ss, random_state=42)"
      ]
    },
    {
      "cell_type": "code",
      "execution_count": null,
      "id": "txS1kCPmWU1G",
      "metadata": {
        "id": "txS1kCPmWU1G"
      },
      "outputs": [],
      "source": [
        "X_over, y_over = over.fit_resample(X_train, y_train)"
      ]
    },
    {
      "cell_type": "code",
      "execution_count": null,
      "id": "bbVJriqc8M9l",
      "metadata": {
        "id": "bbVJriqc8M9l"
      },
      "outputs": [],
      "source": [
        "X_under, y_under = under.fit_resample(X_train, y_train)"
      ]
    },
    {
      "cell_type": "code",
      "execution_count": null,
      "id": "9k4nxt_vqY2N",
      "metadata": {
        "id": "9k4nxt_vqY2N"
      },
      "outputs": [],
      "source": [
        "svc_s = LinearSVC(max_iter=1000)"
      ]
    },
    {
      "cell_type": "code",
      "execution_count": null,
      "id": "TOYuIy2bTKeg",
      "metadata": {
        "colab": {
          "base_uri": "https://localhost:8080/"
        },
        "id": "TOYuIy2bTKeg",
        "outputId": "7e09f0d6-3a8d-465b-ed39-fd8225a37d9e"
      },
      "outputs": [
        {
          "name": "stdout",
          "output_type": "stream",
          "text": [
            "LinearSVC\n",
            "F1 Score : 0.6503092614590587\n"
          ]
        }
      ],
      "source": [
        "print(svc_s.__class__.__name__)\n",
        "svc_s.fit(X_under, y_under)\n",
        "y_pred = svc_s.predict(X_test)\n",
        "print('F1 Score : {}'.format(f1_score(y_test, y_pred, average='micro')))"
      ]
    }
  ],
  "metadata": {
    "colab": {
      "collapsed_sections": [],
      "name": "Copy of Experiment_Text_Classification_Multi_class.ipynb",
      "provenance": []
    },
    "kernelspec": {
      "display_name": "Python 3 (ipykernel)",
      "language": "python",
      "name": "python3"
    },
    "language_info": {
      "codemirror_mode": {
        "name": "ipython",
        "version": 3
      },
      "file_extension": ".py",
      "mimetype": "text/x-python",
      "name": "python",
      "nbconvert_exporter": "python",
      "pygments_lexer": "ipython3",
      "version": "3.8.10"
    }
  },
  "nbformat": 4,
  "nbformat_minor": 5
}
