{
 "cells": [
  {
   "cell_type": "markdown",
   "metadata": {},
   "source": [
    "# Create and activate Virtual Environment"
   ]
  },
  {
   "cell_type": "code",
   "execution_count": null,
   "metadata": {},
   "outputs": [],
   "source": [
    "#Create\n",
    "#!Python -m venv Datarush\n",
    "\n",
    "# #activate (terminal)\n",
    "# Datarush\\Scripts\\activate.bat"
   ]
  },
  {
   "cell_type": "markdown",
   "metadata": {},
   "source": [
    "# Important library installation\n",
    "Can use (terminal) or notebook(uncomment) or use `pip install requirements.txt` to install packages"
   ]
  },
  {
   "cell_type": "code",
   "execution_count": 17,
   "metadata": {},
   "outputs": [],
   "source": [
    "# #Important package for NLP\n",
    "# ! pip install nltk\n",
    "# ! pip install spacy\n",
    "# ! pip install textblob\n",
    "# ! pip install scikit-learn\n",
    "\n",
    "# ! pip list  #check installed packages\n",
    "# ! pip freeze > requirements.txt #save installed packages to requirements.txt\n",
    "\n",
    "# # for data manupulation, cleansing and plotting\n",
    "# ! pip install pandas\n",
    "# ! pip install matplotlib\n",
    "# ! pip install numpy\n"
   ]
  },
  {
   "cell_type": "code",
   "execution_count": null,
   "metadata": {},
   "outputs": [],
   "source": []
  }
 ],
 "metadata": {
  "interpreter": {
   "hash": "4f60a9d7fb701acd313996e5222c9b7969e92192cd09990410f460d7723c5761"
  },
  "kernelspec": {
   "display_name": "Python 3.10.1 64-bit",
   "language": "python",
   "name": "python3"
  },
  "language_info": {
   "codemirror_mode": {
    "name": "ipython",
    "version": 3
   },
   "file_extension": ".py",
   "mimetype": "text/x-python",
   "name": "python",
   "nbconvert_exporter": "python",
   "pygments_lexer": "ipython3",
   "version": "3.10.1"
  },
  "orig_nbformat": 4
 },
 "nbformat": 4,
 "nbformat_minor": 2
}
