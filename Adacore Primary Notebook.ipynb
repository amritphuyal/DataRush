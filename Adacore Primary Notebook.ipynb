{
 "cells": [
  {
   "cell_type": "markdown",
   "metadata": {},
   "source": [
    "# Create and activate Virtual Environment"
   ]
  },
  {
   "cell_type": "code",
   "execution_count": null,
   "metadata": {},
   "outputs": [],
   "source": [
    "#Create\n",
    "#!Python -m venv Datarush\n",
    "\n",
    "# #activate (terminal)\n",
    "# Datarush\\Scripts\\activate.bat"
   ]
  },
  {
   "cell_type": "markdown",
   "metadata": {},
   "source": [
    "# Important library installation\n",
    "Can use (terminal) or notebook(uncomment) or use `pip install requirements.txt` to install packages"
   ]
  },
  {
   "cell_type": "code",
   "execution_count": 8,
   "metadata": {},
   "outputs": [
    {
     "name": "stdout",
     "output_type": "stream",
     "text": [
      "Package            Version\n",
      "------------------ ---------\n",
      "asttokens          2.0.5\n",
      "backcall           0.2.0\n",
      "black              21.12b0\n",
      "blis               0.7.5\n",
      "catalogue          2.0.6\n",
      "certifi            2021.10.8\n",
      "charset-normalizer 2.0.10\n",
      "click              8.0.3\n",
      "colorama           0.4.4\n",
      "cymem              2.0.6\n",
      "debugpy            1.5.1\n",
      "decorator          5.1.1\n",
      "entrypoints        0.3\n",
      "executing          0.8.2\n",
      "idna               3.3\n",
      "ipykernel          6.7.0\n",
      "ipython            8.0.1\n",
      "jedi               0.18.1\n",
      "Jinja2             3.0.3\n",
      "joblib             1.1.0\n",
      "jupyter-client     7.1.1\n",
      "jupyter-core       4.9.1\n",
      "langcodes          3.3.0\n",
      "MarkupSafe         2.0.1\n",
      "matplotlib-inline  0.1.3\n",
      "murmurhash         1.0.6\n",
      "mypy-extensions    0.4.3\n",
      "nest-asyncio       1.5.4\n",
      "nltk               3.6.7\n",
      "numpy              1.22.1\n",
      "packaging          21.3\n",
      "parso              0.8.3\n",
      "pathspec           0.9.0\n",
      "pathy              0.6.1\n",
      "pickleshare        0.7.5\n",
      "pip                21.3.1\n",
      "platformdirs       2.4.1\n",
      "preshed            3.0.6\n",
      "prompt-toolkit     3.0.24\n",
      "pure-eval          0.2.1\n",
      "pydantic           1.8.2\n",
      "Pygments           2.11.2\n",
      "pyparsing          3.0.7\n",
      "python-dateutil    2.8.2\n",
      "pywin32            303\n",
      "pyzmq              22.3.0\n",
      "regex              2022.1.18\n",
      "requests           2.27.1\n",
      "scipy              1.7.3\n",
      "setuptools         60.5.0\n",
      "six                1.16.0\n",
      "smart-open         5.2.1\n",
      "spacy              3.2.1\n",
      "spacy-legacy       3.0.8\n",
      "spacy-loggers      1.0.1\n",
      "srsly              2.4.2\n",
      "stack-data         0.1.4\n",
      "textblob           0.17.1\n",
      "thinc              8.0.13\n",
      "tomli              1.2.3\n",
      "tornado            6.1\n",
      "tqdm               4.62.3\n",
      "traitlets          5.1.1\n",
      "typer              0.4.0\n",
      "typing_extensions  4.0.1\n",
      "urllib3            1.26.8\n",
      "wasabi             0.9.0\n",
      "wcwidth            0.2.5\n",
      "wheel              0.37.1\n"
     ]
    }
   ],
   "source": [
    "# #Important package for NLP\n",
    "# ! pip install nltk\n",
    "# ! pip install spacy\n",
    "# ! pip install textblob\n",
    "\n",
    "# ! pip list  #check installed packages\n",
    "# ! pip freeze > requirements.txt #save installed packages to requirements.txt\n",
    "\n",
    "\n"
   ]
  },
  {
   "cell_type": "code",
   "execution_count": null,
   "metadata": {},
   "outputs": [],
   "source": []
  }
 ],
 "metadata": {
  "interpreter": {
   "hash": "4f60a9d7fb701acd313996e5222c9b7969e92192cd09990410f460d7723c5761"
  },
  "kernelspec": {
   "display_name": "Python 3.10.1 64-bit",
   "language": "python",
   "name": "python3"
  },
  "language_info": {
   "codemirror_mode": {
    "name": "ipython",
    "version": 3
   },
   "file_extension": ".py",
   "mimetype": "text/x-python",
   "name": "python",
   "nbconvert_exporter": "python",
   "pygments_lexer": "ipython3",
   "version": "3.10.1"
  },
  "orig_nbformat": 4
 },
 "nbformat": 4,
 "nbformat_minor": 2
}
