{
 "cells": [
  {
   "cell_type": "markdown",
   "metadata": {},
   "source": [
    "# Import library and modules"
   ]
  },
  {
   "cell_type": "code",
   "execution_count": 1,
   "metadata": {},
   "outputs": [],
   "source": [
    "import re # regular expressions for parsing\n",
    "import pandas as pd # pandas for dataframes\n",
    "import numpy as np # numpy for math\n",
    "import nltk #natural language toolkit tokenization and stemming \n",
    "import matplotlib.pyplot as plt    # matplotlib for plotting\n",
    "from nltk.corpus import stopwords # stopwords\n",
    "from nltk.stem import SnowballStemmer # stemming\n"
   ]
  },
  {
   "cell_type": "markdown",
   "metadata": {},
   "source": [
    "# Import Train data and Test data to pandas dataframe"
   ]
  },
  {
   "cell_type": "code",
   "execution_count": 2,
   "metadata": {},
   "outputs": [
    {
     "data": {
      "text/html": [
       "<div>\n",
       "<style scoped>\n",
       "    .dataframe tbody tr th:only-of-type {\n",
       "        vertical-align: middle;\n",
       "    }\n",
       "\n",
       "    .dataframe tbody tr th {\n",
       "        vertical-align: top;\n",
       "    }\n",
       "\n",
       "    .dataframe thead th {\n",
       "        text-align: right;\n",
       "    }\n",
       "</style>\n",
       "<table border=\"1\" class=\"dataframe\">\n",
       "  <thead>\n",
       "    <tr style=\"text-align: right;\">\n",
       "      <th></th>\n",
       "      <th>id</th>\n",
       "      <th>abstract</th>\n",
       "      <th>category</th>\n",
       "      <th>category_num</th>\n",
       "    </tr>\n",
       "  </thead>\n",
       "  <tbody>\n",
       "    <tr>\n",
       "      <th>0</th>\n",
       "      <td>271675</td>\n",
       "      <td>Bacteria are often exposed to multiple stimu...</td>\n",
       "      <td>q-bio-QM</td>\n",
       "      <td>138</td>\n",
       "    </tr>\n",
       "    <tr>\n",
       "      <th>1</th>\n",
       "      <td>412276</td>\n",
       "      <td>Accurate knowledge of the thermodynamic prop...</td>\n",
       "      <td>hep-ph-</td>\n",
       "      <td>68</td>\n",
       "    </tr>\n",
       "    <tr>\n",
       "      <th>2</th>\n",
       "      <td>256956</td>\n",
       "      <td>The largest X9.3 solar flare in solar cycle ...</td>\n",
       "      <td>astro-ph-SR</td>\n",
       "      <td>7</td>\n",
       "    </tr>\n",
       "    <tr>\n",
       "      <th>3</th>\n",
       "      <td>427612</td>\n",
       "      <td>We say that a random integer variable $X$ is...</td>\n",
       "      <td>math-PR</td>\n",
       "      <td>93</td>\n",
       "    </tr>\n",
       "    <tr>\n",
       "      <th>4</th>\n",
       "      <td>113852</td>\n",
       "      <td>We derive a formula expressing the joint dis...</td>\n",
       "      <td>math-CO</td>\n",
       "      <td>76</td>\n",
       "    </tr>\n",
       "  </tbody>\n",
       "</table>\n",
       "</div>"
      ],
      "text/plain": [
       "       id                                           abstract     category  \\\n",
       "0  271675    Bacteria are often exposed to multiple stimu...     q-bio-QM   \n",
       "1  412276    Accurate knowledge of the thermodynamic prop...      hep-ph-   \n",
       "2  256956    The largest X9.3 solar flare in solar cycle ...  astro-ph-SR   \n",
       "3  427612    We say that a random integer variable $X$ is...      math-PR   \n",
       "4  113852    We derive a formula expressing the joint dis...      math-CO   \n",
       "\n",
       "   category_num  \n",
       "0           138  \n",
       "1            68  \n",
       "2             7  \n",
       "3            93  \n",
       "4            76  "
      ]
     },
     "execution_count": 2,
     "metadata": {},
     "output_type": "execute_result"
    }
   ],
   "source": [
    "df_data = pd.read_csv('./data/train.csv') #  # read the train data in to dataframe \n",
    "df_test= pd.read_csv('./data/test.csv') # # read the test data in to dataframe \n",
    "\n",
    "df_data.head() # print the first 5 rows of the Tranning data\n",
    "\n"
   ]
  },
  {
   "cell_type": "markdown",
   "metadata": {},
   "source": [
    "## Memory Saving"
   ]
  },
  {
   "cell_type": "code",
   "execution_count": 3,
   "metadata": {},
   "outputs": [
    {
     "name": "stdout",
     "output_type": "stream",
     "text": [
      "Memory usage by Data:  Index                 128\n",
      "id                3124824\n",
      "abstract        429522799\n",
      "category         25487734\n",
      "category_num      3124824\n",
      "dtype: int64 \n",
      " \n",
      " Preety high Right ??   Dont worry we will Reduce it....\n",
      "\n",
      "\n",
      " Lets see Memory usage again: \n",
      " \n",
      "  Index                 128\n",
      "id                1562412\n",
      "abstract        429522799\n",
      "category           795575\n",
      "category_num      1562412\n",
      "dtype: int64  \n",
      "  \n",
      " See!! Told you we gonna reduce it \n",
      "\n"
     ]
    }
   ],
   "source": [
    "print('Memory usage by Data: ',df_data.memory_usage(deep=True),'\\n \\n Preety high Right ??   Dont worry we will Reduce it....\\n') \n",
    "\n",
    "# convert \"category \" column to Categorial data to save memory space as they are repeated and in fixed no.\n",
    "df_data['category'] = df_data['category'].astype('category')\n",
    "\n",
    "# convert \"id \" and \"category_num\" column to int32 to save memory space as they are repeadted and in fixed no.\n",
    "df_data[['id','category_num']] = df_data[['id','category_num']].astype('int32')\n",
    "\n",
    "print('\\n Lets see Memory usage again: \\n \\n ',df_data.memory_usage(deep=True),' \\n  \\n See!! Told you we gonna reduce it \\n')"
   ]
  },
  {
   "cell_type": "markdown",
   "metadata": {},
   "source": [
    "# Cleaning"
   ]
  },
  {
   "cell_type": "markdown",
   "metadata": {},
   "source": [
    "## Function to clean data"
   ]
  },
  {
   "cell_type": "code",
   "execution_count": 4,
   "metadata": {},
   "outputs": [],
   "source": [
    "snowball = SnowballStemmer(language='english') # create a snowball stemmer object\n",
    "STOPWORDS = set(stopwords.words('english')) # load the stopwords\n",
    "url_pattern = re.compile(r'https?://\\S+|www\\.\\S+') # regular expression for url\n",
    "\n",
    "# Function to clean text \n",
    "def clean_text(text):\n",
    "\n",
    "    text = url_pattern.sub(r'',text.replace('\\n',' ')) # remove URLs and replace newline by space\n",
    "    text = re.sub(r'\\w*\\d\\w*', '', text) # remove words containing numbers\n",
    "    text = re.sub('[^a-z\\s]', ' ', text.lower()) #replace all non-alphabetical characters with space and lower case\n",
    "    text = [word for word in text.split() if word not in STOPWORDS] #remove stopwords\n",
    "    text = [snowball.stem(i) for i in text] # stemming\n",
    "    text = ' '.join(text ) # join the list of words \n",
    "    text = re.sub(r'\\b\\w{1,2}\\b', '', text) #remove words with length less than 2\n",
    "\n",
    "    return text"
   ]
  },
  {
   "cell_type": "markdown",
   "metadata": {},
   "source": [
    "## Clean Train data"
   ]
  },
  {
   "cell_type": "code",
   "execution_count": 5,
   "metadata": {},
   "outputs": [
    {
     "name": "stdout",
     "output_type": "stream",
     "text": [
      "\n",
      " \n",
      " Cleaning started for train.csv . Hold on it will take time 10-15 minutes \n",
      " \n",
      "\n",
      "\n",
      " \n",
      " Cleaning completed for train.csv now saving it as train_clean.sav in data folder \n",
      " \n",
      "\n",
      "Lets verify if that function works : \n",
      ",        id                                           abstract     category  \\\n",
      "0  271675  bacteria often expos multipl stimuli complex e...     q-bio-QM   \n",
      "1  412276  accur knowledg thermodynam properti zero tempe...      hep-ph-   \n",
      "2  256956  largest solar flare solar cycl preced flare oc...  astro-ph-SR   \n",
      "3  427612  say random integ variabl  monoton modulus char...      math-PR   \n",
      "4  113852  deriv formula express joint distribut cyclic v...      math-CO   \n",
      "\n",
      "   category_num  \n",
      "0           138  \n",
      "1            68  \n",
      "2             7  \n",
      "3            93  \n",
      "4            76   \n",
      " \n",
      " All looks good \n",
      " \n",
      " \n"
     ]
    }
   ],
   "source": [
    "print('\\n \\n Cleaning started for train.csv . Hold on ...............  it will take time 10-15 minutes \\n \\n')\n",
    "df_data['abstract'] = df_data['abstract'].apply(clean_text)\n",
    "\n",
    "print('\\n \\n Cleaning completed for train.csv now saving it as train_clean.sav in data folder \\n \\n')\n",
    "df_data.to_csv('./data/train_clean.csv', index=False)\n",
    "# df_data.to_csv('./test/train_clean.csv', index=False)\n",
    "print('Lets verify if that function works : \\n,',df_data.head(),'\\n \\n All looks good \\n \\n ') "
   ]
  },
  {
   "cell_type": "markdown",
   "metadata": {},
   "source": [
    "## Clean Test data"
   ]
  },
  {
   "cell_type": "code",
   "execution_count": 6,
   "metadata": {},
   "outputs": [
    {
     "name": "stdout",
     "output_type": "stream",
     "text": [
      "\n",
      " \n",
      " Now cleaning test.csv  and saving it as test_clean.csv \n",
      " \n",
      " Hold on..............  it will take2-3 minutes \n",
      " \n",
      "\n",
      "Lets verify if that function works : \n",
      ",        id                                           abstract\n",
      "0  430065  depth map obtain commerci depth sensor alway l...\n",
      "1   75226  lambda express introduc java program languag p...\n",
      "2  301990  propos demonstr gamma gamma collid   gev  euro...\n",
      "3  301001  physic lab student experi wide rang equit ineq...\n",
      "4  280179  exist local minima one hidden layer relu netwo... \n",
      " \n",
      " All looks good \n",
      " \n",
      " \n"
     ]
    }
   ],
   "source": [
    "print('\\n \\n Now cleaning test.csv  and saving it as test_clean.csv \\n \\n Hold on..............  it will take2-3 minutes \\n \\n')\n",
    "df_test['abstract'] = df_test['abstract'].apply(clean_text)\n",
    "df_test.to_csv('./data/test_clean.csv', index=False)\n",
    "# df_test.to_csv('./test/test_clean.csv', index=False)\n",
    "print('Lets verify if that function works : \\n,',df_test.head(),'\\n \\n All looks good \\n \\n ') \n"
   ]
  },
  {
   "cell_type": "code",
   "execution_count": null,
   "metadata": {},
   "outputs": [],
   "source": []
  }
 ],
 "metadata": {
  "interpreter": {
   "hash": "4790f62c98cc977d4f5227ba65017f6cc521a753b4df0bc48a28a5c1d12d4ff8"
  },
  "kernelspec": {
   "display_name": "Python 3 (ipykernel)",
   "language": "python",
   "name": "python3"
  },
  "language_info": {
   "codemirror_mode": {
    "name": "ipython",
    "version": 3
   },
   "file_extension": ".py",
   "mimetype": "text/x-python",
   "name": "python",
   "nbconvert_exporter": "python",
   "pygments_lexer": "ipython3",
   "version": "3.9.9"
  }
 },
 "nbformat": 4,
 "nbformat_minor": 2
}
