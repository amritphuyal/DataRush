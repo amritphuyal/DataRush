{
 "cells": [
  {
   "cell_type": "markdown",
   "metadata": {},
   "source": [
    "# Some important Imports"
   ]
  },
  {
   "cell_type": "code",
   "execution_count": 25,
   "metadata": {},
   "outputs": [],
   "source": [
    "import pandas as pd # pandas for dataframes\n",
    "import numpy as np # numpy for math\n",
    "from keras.preprocessing.text import Tokenizer # Tokenizer\n",
    "from keras.preprocessing.sequence import pad_sequences # pad_sequence\n",
    "from keras.models import load_model # load_model"
   ]
  },
  {
   "cell_type": "markdown",
   "metadata": {},
   "source": [
    "# Importing clean test data from csv "
   ]
  },
  {
   "cell_type": "code",
   "execution_count": 26,
   "metadata": {},
   "outputs": [
    {
     "name": "stdout",
     "output_type": "stream",
     "text": [
      " \n",
      "Importing Cleaned Test data(test_clean.csv) from data folder\n",
      " \n",
      "First five Rows of Cleaned test data      id                                           abstract\n",
      "0   494  studi rotat spectrum nacn  recent extend frequ...\n",
      "1   567  present sub arcminut resolut imag sunyaev zel ...\n",
      "2  1523  stellar companion black hole orbit eccentr orb...\n",
      "3  1604  hybrid ricci scalar    eta   form robertson wa...\n",
      "4  2907  investig quantum primordi cosmolog fluctuat de...\n"
     ]
    }
   ],
   "source": [
    "print(\" \\nImporting Cleaned Test data(test_clean.csv) from data folder\\n \")\n",
    "\n",
    "df_test=pd.read_csv('./data/test_clean.csv')\n",
    "# df_test= pd.read_csv('./test/test_validation_subset5.csv')\n",
    "#convert abstract column to str\n",
    "df_test['abstract'] = df_test['abstract'].astype(str)\n",
    "print('First five Rows of Cleaned test data',df_data.head()) "
   ]
  },
  {
   "cell_type": "markdown",
   "metadata": {},
   "source": [
    "## Import Model"
   ]
  },
  {
   "cell_type": "code",
   "execution_count": 27,
   "metadata": {},
   "outputs": [],
   "source": [
    "new_model = load_model('./Saved_model/model.h5')"
   ]
  },
  {
   "cell_type": "markdown",
   "metadata": {},
   "source": [
    "# Prepare solution csv"
   ]
  },
  {
   "cell_type": "code",
   "execution_count": 28,
   "metadata": {},
   "outputs": [
    {
     "data": {
      "text/html": [
       "<div>\n",
       "<style scoped>\n",
       "    .dataframe tbody tr th:only-of-type {\n",
       "        vertical-align: middle;\n",
       "    }\n",
       "\n",
       "    .dataframe tbody tr th {\n",
       "        vertical-align: top;\n",
       "    }\n",
       "\n",
       "    .dataframe thead th {\n",
       "        text-align: right;\n",
       "    }\n",
       "</style>\n",
       "<table border=\"1\" class=\"dataframe\">\n",
       "  <thead>\n",
       "    <tr style=\"text-align: right;\">\n",
       "      <th></th>\n",
       "      <th>id</th>\n",
       "      <th>category_num</th>\n",
       "    </tr>\n",
       "  </thead>\n",
       "  <tbody>\n",
       "    <tr>\n",
       "      <th>0</th>\n",
       "      <td>494</td>\n",
       "      <td>NaN</td>\n",
       "    </tr>\n",
       "    <tr>\n",
       "      <th>1</th>\n",
       "      <td>567</td>\n",
       "      <td>NaN</td>\n",
       "    </tr>\n",
       "    <tr>\n",
       "      <th>2</th>\n",
       "      <td>1523</td>\n",
       "      <td>NaN</td>\n",
       "    </tr>\n",
       "    <tr>\n",
       "      <th>3</th>\n",
       "      <td>1604</td>\n",
       "      <td>NaN</td>\n",
       "    </tr>\n",
       "    <tr>\n",
       "      <th>4</th>\n",
       "      <td>2907</td>\n",
       "      <td>NaN</td>\n",
       "    </tr>\n",
       "  </tbody>\n",
       "</table>\n",
       "</div>"
      ],
      "text/plain": [
       "     id category_num\n",
       "0   494          NaN\n",
       "1   567          NaN\n",
       "2  1523          NaN\n",
       "3  1604          NaN\n",
       "4  2907          NaN"
      ]
     },
     "execution_count": 28,
     "metadata": {},
     "output_type": "execute_result"
    }
   ],
   "source": [
    "column_names = ['id','category_num']\n",
    "df_solution = pd.DataFrame(columns = column_names)\n",
    "\n",
    "## copy 'id' column of test.csv to \"Id\" column of df_solution\n",
    "df_solution.id= df_test.id   # or use below method\n",
    "df_solution.head()"
   ]
  },
  {
   "cell_type": "code",
   "execution_count": 32,
   "metadata": {},
   "outputs": [
    {
     "name": "stdout",
     "output_type": "stream",
     "text": [
      "Prediction start .......... ..... .... ... \n",
      "Prediction Complete\n"
     ]
    }
   ],
   "source": [
    "print(\"Prediction start .......... ..... .... ... \")\n",
    "\n",
    "MAX_NB_WORDS =50000\n",
    "MAX_SEQUENCE_LENGTH = 200\n",
    "tokenizer = Tokenizer(num_words=MAX_NB_WORDS,oov_token = '<UNK>') \n",
    "tokenizer.fit_on_texts(df_test.abstract) # fit the tokenizer on the abstracts\n",
    "tok = tokenizer.texts_to_sequences(df_test.abstract)\n",
    "pad = pad_sequences(tok, maxlen=MAX_SEQUENCE_LENGTH)\n",
    "solution_series=new_model.predict(pad)\n",
    "print(\"Prediction Complete\")"
   ]
  },
  {
   "cell_type": "code",
   "execution_count": 36,
   "metadata": {},
   "outputs": [
    {
     "name": "stdout",
     "output_type": "stream",
     "text": [
      "Top 10 prediction        id  category_num\n",
      "0     494             2\n",
      "1     567             4\n",
      "2    1523             5\n",
      "3    1604             4\n",
      "4    2907             3\n",
      "5    3970             3\n",
      "6    4346             4\n",
      "7    4854             4\n",
      "8    5232             4\n",
      "9    5530             4\n",
      "10   5544             4\n",
      "11   6783             4\n",
      "12   7181             4\n",
      "13   7453             4\n",
      "14   7857             3\n",
      "15   8959             4\n",
      "16   9241             5\n",
      "17   9697             3\n",
      "18  10230             3\n",
      "19  10461             2\n"
     ]
    }
   ],
   "source": [
    "Solution_np=np.argmax(solution_series,axis=1)\n",
    "df_solution['category_num'] =Solution_np\n",
    "df_solution.to_csv('solution.csv',index=False)\n",
    "print('Top 10 prediction \\n',df_solution.head(20))"
   ]
  },
  {
   "cell_type": "code",
   "execution_count": null,
   "metadata": {},
   "outputs": [],
   "source": []
  }
 ],
 "metadata": {
  "interpreter": {
   "hash": "4790f62c98cc977d4f5227ba65017f6cc521a753b4df0bc48a28a5c1d12d4ff8"
  },
  "kernelspec": {
   "display_name": "Python 3 (ipykernel)",
   "language": "python",
   "name": "python3"
  },
  "language_info": {
   "codemirror_mode": {
    "name": "ipython",
    "version": 3
   },
   "file_extension": ".py",
   "mimetype": "text/x-python",
   "name": "python",
   "nbconvert_exporter": "python",
   "pygments_lexer": "ipython3",
   "version": "3.9.9"
  }
 },
 "nbformat": 4,
 "nbformat_minor": 2
}
